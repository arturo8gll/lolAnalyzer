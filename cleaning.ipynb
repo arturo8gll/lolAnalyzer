{
 "cells": [
  {
   "cell_type": "code",
   "execution_count": 9,
   "metadata": {},
   "outputs": [],
   "source": [
    "import pygal\n",
    "import numpy as np\n",
    "import pandas as pd\n",
    "from scipy.stats import ks_2samp\n",
    "from scipy.stats import chisquare\n",
    "from sklearn.model_selection import train_test_split\n",
    "pd.set_option('display.max_rows', None)\n",
    "%matplotlib inline"
   ]
  },
  {
   "cell_type": "code",
   "execution_count": 10,
   "metadata": {},
   "outputs": [],
   "source": [
    "df = pd.read_csv('./csv/data.csv')"
   ]
  },
  {
   "cell_type": "code",
   "execution_count": 11,
   "metadata": {},
   "outputs": [
    {
     "data": {
      "text/plain": [
       "(602, 161)"
      ]
     },
     "execution_count": 11,
     "metadata": {},
     "output_type": "execute_result"
    }
   ],
   "source": [
    "df.shape"
   ]
  },
  {
   "cell_type": "code",
   "execution_count": 15,
   "metadata": {},
   "outputs": [],
   "source": [
    "def separateVarCD(df):\n",
    "    \"\"\"\n",
    "    Esta funcion separa las variables continuas y discretas.\n",
    "    \n",
    "    si la variable es de tipo 'float64' o 'int64' se clasifica como continua\n",
    "    si la variable es de otro tipo se clasifica como discreta\n",
    "    \"\"\"\n",
    "    ls_cont = []\n",
    "    ls_disc = []\n",
    "    for i in range(0,len(df.columns)):\n",
    "        if df.dtypes[i] == 'int64' or df.dtypes[i] == 'float64':\n",
    "            ls_cont.append(df.columns[i])\n",
    "        else:\n",
    "            ls_disc.append(df.columns[i])\n",
    "    return ls_cont,ls_disc"
   ]
  },
  {
   "cell_type": "code",
   "execution_count": 16,
   "metadata": {},
   "outputs": [],
   "source": [
    "disc=[]\n",
    "cont = []\n",
    "def variable(var):\n",
    "    print(var)\n",
    "    print(df[var].head(5))"
   ]
  },
  {
   "cell_type": "code",
   "execution_count": 18,
   "metadata": {},
   "outputs": [],
   "source": [
    "df[\"gameId\"] = df[\"gameId\"].astype(str)\n",
    "df[\"platformId\"] = df[\"platformId\"].astype(str)\n",
    "df[\"gameDuration\"] = df[\"gameDuration\"].astype(str)\n",
    "df[\"gameCreation\"] = df[\"gameCreation\"].astype(str)\n",
    "df[\"queueId\"] = df[\"queueId\"].astype(str)\n",
    "df[\"mapId\"] = df[\"mapId\"].astype(str)\n",
    "df[\"seasonId\"] = df[\"seasonId\"].astype(str)\n",
    "df[\"teamId\"] = df[\"teamId\"].astype(str)\n",
    "df[\"participantId\"] = df[\"participantId\"].astype(str)\n",
    "df[\"championId\"] = df[\"championId\"].astype(str)"
   ]
  },
  {
   "cell_type": "code",
   "execution_count": 19,
   "metadata": {},
   "outputs": [
    {
     "data": {
      "text/plain": [
       "gameId                                 object\n",
       "platformId                             object\n",
       "gameCreation                           object\n",
       "gameDuration                           object\n",
       "queueId                                object\n",
       "mapId                                  object\n",
       "seasonId                               object\n",
       "gameVersion                            object\n",
       "gameMode                               object\n",
       "gameType                               object\n",
       "teamId                                 object\n",
       "win                                      bool\n",
       "firstBlood                               bool\n",
       "firstTower                               bool\n",
       "firstInhibitor                           bool\n",
       "firstBaron                               bool\n",
       "firstDragon                              bool\n",
       "firstRiftHerald                          bool\n",
       "towerKills                              int64\n",
       "inhibitorKills                          int64\n",
       "baronKills                              int64\n",
       "dragonKills                             int64\n",
       "vilemawKills                            int64\n",
       "riftHeraldKills                         int64\n",
       "dominionVictoryScore                    int64\n",
       "participantId                          object\n",
       "championId                             object\n",
       "spell1Id                                int64\n",
       "spell2Id                                int64\n",
       "item0                                   int64\n",
       "item1                                   int64\n",
       "item2                                   int64\n",
       "item3                                   int64\n",
       "item4                                   int64\n",
       "item5                                   int64\n",
       "item6                                   int64\n",
       "kills                                   int64\n",
       "deaths                                  int64\n",
       "assists                                 int64\n",
       "largestKillingSpree                     int64\n",
       "largestMultiKill                        int64\n",
       "killingSprees                           int64\n",
       "longestTimeSpentLiving                  int64\n",
       "doubleKills                             int64\n",
       "tripleKills                             int64\n",
       "quadraKills                             int64\n",
       "pentaKills                              int64\n",
       "unrealKills                             int64\n",
       "totalDamageDealt                        int64\n",
       "magicDamageDealt                        int64\n",
       "physicalDamageDealt                     int64\n",
       "trueDamageDealt                         int64\n",
       "largestCriticalStrike                   int64\n",
       "totalDamageDealtToChampions             int64\n",
       "magicDamageDealtToChampions             int64\n",
       "physicalDamageDealtToChampions          int64\n",
       "trueDamageDealtToChampions              int64\n",
       "totalHeal                               int64\n",
       "totalUnitsHealed                        int64\n",
       "damageSelfMitigated                     int64\n",
       "damageDealtToObjectives                 int64\n",
       "damageDealtToTurrets                    int64\n",
       "visionScore                             int64\n",
       "timeCCingOthers                         int64\n",
       "totalDamageTaken                        int64\n",
       "magicalDamageTaken                      int64\n",
       "physicalDamageTaken                     int64\n",
       "trueDamageTaken                         int64\n",
       "goldEarned                              int64\n",
       "goldSpent                               int64\n",
       "turretKills                             int64\n",
       "totalMinionsKilled                      int64\n",
       "neutralMinionsKilled                    int64\n",
       "neutralMinionsKilledTeamJungle          int64\n",
       "neutralMinionsKilledEnemyJungle         int64\n",
       "totalTimeCrowdControlDealt              int64\n",
       "champLevel                              int64\n",
       "visionWardsBoughtInGame                 int64\n",
       "sightWardsBoughtInGame                  int64\n",
       "wardsPlaced                             int64\n",
       "wardsKilled                             int64\n",
       "firstBloodKill                         object\n",
       "firstBloodAssist                       object\n",
       "firstTowerKill                         object\n",
       "firstTowerAssist                       object\n",
       "firstInhibitorKill                     object\n",
       "firstInhibitorAssist                   object\n",
       "combatPlayerScore                       int64\n",
       "objectivePlayerScore                    int64\n",
       "totalPlayerScore                        int64\n",
       "totalScoreRank                          int64\n",
       "playerScore0                            int64\n",
       "playerScore1                            int64\n",
       "playerScore2                            int64\n",
       "playerScore3                            int64\n",
       "playerScore4                            int64\n",
       "playerScore5                            int64\n",
       "playerScore6                            int64\n",
       "playerScore7                            int64\n",
       "playerScore8                            int64\n",
       "playerScore9                            int64\n",
       "perk0                                 float64\n",
       "perk0Var1                             float64\n",
       "perk0Var2                             float64\n",
       "perk0Var3                             float64\n",
       "perk1                                 float64\n",
       "perk1Var1                             float64\n",
       "perk1Var2                             float64\n",
       "perk1Var3                             float64\n",
       "perk2                                 float64\n",
       "perk2Var1                             float64\n",
       "perk2Var2                             float64\n",
       "perk2Var3                             float64\n",
       "perk3                                 float64\n",
       "perk3Var1                             float64\n",
       "perk3Var2                             float64\n",
       "perk3Var3                             float64\n",
       "perk4                                 float64\n",
       "perk4Var1                             float64\n",
       "perk4Var2                             float64\n",
       "perk4Var3                             float64\n",
       "perk5                                 float64\n",
       "perk5Var1                             float64\n",
       "perk5Var2                             float64\n",
       "perk5Var3                             float64\n",
       "perkPrimaryStyle                      float64\n",
       "perkSubStyle                          float64\n",
       "statPerk0                             float64\n",
       "statPerk1                             float64\n",
       "statPerk2                             float64\n",
       "creepsPerMinDeltas_10-20              float64\n",
       "creepsPerMinDeltas_0-10               float64\n",
       "xpPerMinDeltas_10-20                  float64\n",
       "xpPerMinDeltas_0-10                   float64\n",
       "goldPerMinDeltas_10-20                float64\n",
       "goldPerMinDeltas_0-10                 float64\n",
       "csDiffPerMinDeltas_10-20              float64\n",
       "csDiffPerMinDeltas_0-10               float64\n",
       "xpDiffPerMinDeltas_10-20              float64\n",
       "xpDiffPerMinDeltas_0-10               float64\n",
       "damageTakenPerMinDeltas_10-20         float64\n",
       "damageTakenPerMinDeltas_0-10          float64\n",
       "damageTakenDiffPerMinDeltas_10-20     float64\n",
       "damageTakenDiffPerMinDeltas_0-10      float64\n",
       "lane                                   object\n",
       "role                                   object\n",
       "highestAchievedSeasonTier              object\n",
       "creepsPerMinDeltas_30-end             float64\n",
       "creepsPerMinDeltas_20-30              float64\n",
       "xpPerMinDeltas_30-end                 float64\n",
       "xpPerMinDeltas_20-30                  float64\n",
       "goldPerMinDeltas_30-end               float64\n",
       "goldPerMinDeltas_20-30                float64\n",
       "damageTakenPerMinDeltas_30-end        float64\n",
       "damageTakenPerMinDeltas_20-30         float64\n",
       "csDiffPerMinDeltas_30-end             float64\n",
       "csDiffPerMinDeltas_20-30              float64\n",
       "xpDiffPerMinDeltas_30-end             float64\n",
       "xpDiffPerMinDeltas_20-30              float64\n",
       "damageTakenDiffPerMinDeltas_30-end    float64\n",
       "damageTakenDiffPerMinDeltas_20-30     float64\n",
       "dtype: object"
      ]
     },
     "execution_count": 19,
     "metadata": {},
     "output_type": "execute_result"
    }
   ],
   "source": [
    "df.dtypes"
   ]
  },
  {
   "cell_type": "code",
   "execution_count": 12,
   "metadata": {},
   "outputs": [],
   "source": [
    "ls_cont,ls_disc=separateVarCD(df)"
   ]
  },
  {
   "cell_type": "code",
   "execution_count": 13,
   "metadata": {},
   "outputs": [
    {
     "data": {
      "text/plain": [
       "29"
      ]
     },
     "execution_count": 13,
     "metadata": {},
     "output_type": "execute_result"
    }
   ],
   "source": [
    "len(ls_disc)"
   ]
  },
  {
   "cell_type": "code",
   "execution_count": 14,
   "metadata": {},
   "outputs": [
    {
     "data": {
      "text/plain": [
       "132"
      ]
     },
     "execution_count": 14,
     "metadata": {},
     "output_type": "execute_result"
    }
   ],
   "source": [
    "len(ls_cont)"
   ]
  },
  {
   "cell_type": "code",
   "execution_count": 15,
   "metadata": {},
   "outputs": [],
   "source": [
    "train,test=train_test_split(df, test_size=0.30)"
   ]
  },
  {
   "cell_type": "code",
   "execution_count": 16,
   "metadata": {},
   "outputs": [
    {
     "data": {
      "text/plain": [
       "(70, 161)"
      ]
     },
     "execution_count": 16,
     "metadata": {},
     "output_type": "execute_result"
    }
   ],
   "source": [
    "train.shape"
   ]
  },
  {
   "cell_type": "code",
   "execution_count": 17,
   "metadata": {},
   "outputs": [
    {
     "data": {
      "text/plain": [
       "(30, 161)"
      ]
     },
     "execution_count": 17,
     "metadata": {},
     "output_type": "execute_result"
    }
   ],
   "source": [
    "test.shape"
   ]
  },
  {
   "cell_type": "code",
   "execution_count": 18,
   "metadata": {},
   "outputs": [],
   "source": [
    "train.to_csv('./csv/train.csv')\n",
    "test.to_csv('./csv/test.csv')"
   ]
  }
 ],
 "metadata": {
  "kernelspec": {
   "display_name": "ml",
   "language": "python",
   "name": "ml"
  },
  "language_info": {
   "codemirror_mode": {
    "name": "ipython",
    "version": 3
   },
   "file_extension": ".py",
   "mimetype": "text/x-python",
   "name": "python",
   "nbconvert_exporter": "python",
   "pygments_lexer": "ipython3",
   "version": "3.7.4"
  }
 },
 "nbformat": 4,
 "nbformat_minor": 2
}
