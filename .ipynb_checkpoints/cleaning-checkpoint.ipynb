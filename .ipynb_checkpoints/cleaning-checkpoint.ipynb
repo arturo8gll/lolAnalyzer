{
 "cells": [
  {
   "cell_type": "code",
   "execution_count": 1,
   "metadata": {},
   "outputs": [],
   "source": [
    "import pygal\n",
    "import numpy as np\n",
    "import pandas as pd\n",
    "from scipy.stats import ks_2samp\n",
    "from scipy.stats import chisquare\n",
    "from sklearn.model_selection import train_test_split\n",
    "pd.set_option('display.max_rows', None)\n",
    "%matplotlib inline"
   ]
  },
  {
   "cell_type": "code",
   "execution_count": 3,
   "metadata": {},
   "outputs": [],
   "source": [
    "df = pd.read_csv('./csv/data.csv')"
   ]
  },
  {
   "cell_type": "code",
   "execution_count": 4,
   "metadata": {},
   "outputs": [
    {
     "data": {
      "text/html": [
       "<div>\n",
       "<style scoped>\n",
       "    .dataframe tbody tr th:only-of-type {\n",
       "        vertical-align: middle;\n",
       "    }\n",
       "\n",
       "    .dataframe tbody tr th {\n",
       "        vertical-align: top;\n",
       "    }\n",
       "\n",
       "    .dataframe thead th {\n",
       "        text-align: right;\n",
       "    }\n",
       "</style>\n",
       "<table border=\"1\" class=\"dataframe\">\n",
       "  <thead>\n",
       "    <tr style=\"text-align: right;\">\n",
       "      <th></th>\n",
       "      <th>gameId</th>\n",
       "      <th>platformId</th>\n",
       "      <th>gameCreation</th>\n",
       "      <th>gameDuration</th>\n",
       "      <th>queueId</th>\n",
       "      <th>mapId</th>\n",
       "      <th>seasonId</th>\n",
       "      <th>gameVersion</th>\n",
       "      <th>gameMode</th>\n",
       "      <th>gameType</th>\n",
       "      <th>...</th>\n",
       "      <th>damageTakenDiffPerMinDeltas_20-30</th>\n",
       "      <th>lane</th>\n",
       "      <th>role</th>\n",
       "      <th>creepsPerMinDeltas_30-end</th>\n",
       "      <th>xpPerMinDeltas_30-end</th>\n",
       "      <th>goldPerMinDeltas_30-end</th>\n",
       "      <th>damageTakenPerMinDeltas_30-end</th>\n",
       "      <th>csDiffPerMinDeltas_30-end</th>\n",
       "      <th>xpDiffPerMinDeltas_30-end</th>\n",
       "      <th>damageTakenDiffPerMinDeltas_30-end</th>\n",
       "    </tr>\n",
       "  </thead>\n",
       "  <tbody>\n",
       "    <tr>\n",
       "      <th>0</th>\n",
       "      <td>707996522</td>\n",
       "      <td>LA1</td>\n",
       "      <td>1560060785604</td>\n",
       "      <td>1947</td>\n",
       "      <td>420</td>\n",
       "      <td>11</td>\n",
       "      <td>13</td>\n",
       "      <td>9.11.275.6613</td>\n",
       "      <td>CLASSIC</td>\n",
       "      <td>MATCHED_GAME</td>\n",
       "      <td>...</td>\n",
       "      <td>39.95</td>\n",
       "      <td>BOTTOM</td>\n",
       "      <td>DUO_SUPPORT</td>\n",
       "      <td>NaN</td>\n",
       "      <td>NaN</td>\n",
       "      <td>NaN</td>\n",
       "      <td>NaN</td>\n",
       "      <td>NaN</td>\n",
       "      <td>NaN</td>\n",
       "      <td>NaN</td>\n",
       "    </tr>\n",
       "    <tr>\n",
       "      <th>1</th>\n",
       "      <td>660826760</td>\n",
       "      <td>LA1</td>\n",
       "      <td>1549172109432</td>\n",
       "      <td>1581</td>\n",
       "      <td>420</td>\n",
       "      <td>11</td>\n",
       "      <td>13</td>\n",
       "      <td>9.2.261.2172</td>\n",
       "      <td>CLASSIC</td>\n",
       "      <td>MATCHED_GAME</td>\n",
       "      <td>...</td>\n",
       "      <td>NaN</td>\n",
       "      <td>BOTTOM</td>\n",
       "      <td>DUO_CARRY</td>\n",
       "      <td>NaN</td>\n",
       "      <td>NaN</td>\n",
       "      <td>NaN</td>\n",
       "      <td>NaN</td>\n",
       "      <td>NaN</td>\n",
       "      <td>NaN</td>\n",
       "      <td>NaN</td>\n",
       "    </tr>\n",
       "    <tr>\n",
       "      <th>2</th>\n",
       "      <td>660830172</td>\n",
       "      <td>LA1</td>\n",
       "      <td>1549169532070</td>\n",
       "      <td>1531</td>\n",
       "      <td>420</td>\n",
       "      <td>11</td>\n",
       "      <td>13</td>\n",
       "      <td>9.2.261.2172</td>\n",
       "      <td>CLASSIC</td>\n",
       "      <td>MATCHED_GAME</td>\n",
       "      <td>...</td>\n",
       "      <td>NaN</td>\n",
       "      <td>JUNGLE</td>\n",
       "      <td>NONE</td>\n",
       "      <td>NaN</td>\n",
       "      <td>NaN</td>\n",
       "      <td>NaN</td>\n",
       "      <td>NaN</td>\n",
       "      <td>NaN</td>\n",
       "      <td>NaN</td>\n",
       "      <td>NaN</td>\n",
       "    </tr>\n",
       "    <tr>\n",
       "      <th>3</th>\n",
       "      <td>660800576</td>\n",
       "      <td>LA1</td>\n",
       "      <td>1549166154736</td>\n",
       "      <td>2438</td>\n",
       "      <td>420</td>\n",
       "      <td>11</td>\n",
       "      <td>13</td>\n",
       "      <td>9.2.261.2172</td>\n",
       "      <td>CLASSIC</td>\n",
       "      <td>MATCHED_GAME</td>\n",
       "      <td>...</td>\n",
       "      <td>NaN</td>\n",
       "      <td>JUNGLE</td>\n",
       "      <td>NONE</td>\n",
       "      <td>0.5</td>\n",
       "      <td>548.1</td>\n",
       "      <td>284.5</td>\n",
       "      <td>3059.5</td>\n",
       "      <td>NaN</td>\n",
       "      <td>NaN</td>\n",
       "      <td>NaN</td>\n",
       "    </tr>\n",
       "    <tr>\n",
       "      <th>4</th>\n",
       "      <td>660773384</td>\n",
       "      <td>LA1</td>\n",
       "      <td>1549163644596</td>\n",
       "      <td>1469</td>\n",
       "      <td>420</td>\n",
       "      <td>11</td>\n",
       "      <td>13</td>\n",
       "      <td>9.2.261.2172</td>\n",
       "      <td>CLASSIC</td>\n",
       "      <td>MATCHED_GAME</td>\n",
       "      <td>...</td>\n",
       "      <td>NaN</td>\n",
       "      <td>JUNGLE</td>\n",
       "      <td>NONE</td>\n",
       "      <td>NaN</td>\n",
       "      <td>NaN</td>\n",
       "      <td>NaN</td>\n",
       "      <td>NaN</td>\n",
       "      <td>NaN</td>\n",
       "      <td>NaN</td>\n",
       "      <td>NaN</td>\n",
       "    </tr>\n",
       "  </tbody>\n",
       "</table>\n",
       "<p>5 rows × 161 columns</p>\n",
       "</div>"
      ],
      "text/plain": [
       "      gameId platformId   gameCreation  gameDuration  queueId  mapId  \\\n",
       "0  707996522        LA1  1560060785604          1947      420     11   \n",
       "1  660826760        LA1  1549172109432          1581      420     11   \n",
       "2  660830172        LA1  1549169532070          1531      420     11   \n",
       "3  660800576        LA1  1549166154736          2438      420     11   \n",
       "4  660773384        LA1  1549163644596          1469      420     11   \n",
       "\n",
       "   seasonId    gameVersion gameMode      gameType  ...  \\\n",
       "0        13  9.11.275.6613  CLASSIC  MATCHED_GAME  ...   \n",
       "1        13   9.2.261.2172  CLASSIC  MATCHED_GAME  ...   \n",
       "2        13   9.2.261.2172  CLASSIC  MATCHED_GAME  ...   \n",
       "3        13   9.2.261.2172  CLASSIC  MATCHED_GAME  ...   \n",
       "4        13   9.2.261.2172  CLASSIC  MATCHED_GAME  ...   \n",
       "\n",
       "   damageTakenDiffPerMinDeltas_20-30    lane         role  \\\n",
       "0                              39.95  BOTTOM  DUO_SUPPORT   \n",
       "1                                NaN  BOTTOM    DUO_CARRY   \n",
       "2                                NaN  JUNGLE         NONE   \n",
       "3                                NaN  JUNGLE         NONE   \n",
       "4                                NaN  JUNGLE         NONE   \n",
       "\n",
       "   creepsPerMinDeltas_30-end  xpPerMinDeltas_30-end  goldPerMinDeltas_30-end  \\\n",
       "0                        NaN                    NaN                      NaN   \n",
       "1                        NaN                    NaN                      NaN   \n",
       "2                        NaN                    NaN                      NaN   \n",
       "3                        0.5                  548.1                    284.5   \n",
       "4                        NaN                    NaN                      NaN   \n",
       "\n",
       "   damageTakenPerMinDeltas_30-end  csDiffPerMinDeltas_30-end  \\\n",
       "0                             NaN                        NaN   \n",
       "1                             NaN                        NaN   \n",
       "2                             NaN                        NaN   \n",
       "3                          3059.5                        NaN   \n",
       "4                             NaN                        NaN   \n",
       "\n",
       "   xpDiffPerMinDeltas_30-end  damageTakenDiffPerMinDeltas_30-end  \n",
       "0                        NaN                                 NaN  \n",
       "1                        NaN                                 NaN  \n",
       "2                        NaN                                 NaN  \n",
       "3                        NaN                                 NaN  \n",
       "4                        NaN                                 NaN  \n",
       "\n",
       "[5 rows x 161 columns]"
      ]
     },
     "execution_count": 4,
     "metadata": {},
     "output_type": "execute_result"
    }
   ],
   "source": [
    "df.head()"
   ]
  },
  {
   "cell_type": "code",
   "execution_count": 5,
   "metadata": {},
   "outputs": [],
   "source": [
    "def separateVarCD(df):\n",
    "    \"\"\"\n",
    "    Esta funcion separa las variables continuas y discretas.\n",
    "    \n",
    "    si la variable es de tipo 'float64' o 'int64' se clasifica como continua\n",
    "    si la variable es de otro tipo se clasifica como discreta\n",
    "    \"\"\"\n",
    "    ls_cont = []\n",
    "    ls_disc = []\n",
    "    for i in range(0,len(df.columns)):\n",
    "        if df.dtypes[i] == 'int64' or df.dtypes[i] == 'float64':\n",
    "            ls_cont.append(df.columns[i])\n",
    "        else:\n",
    "            ls_disc.append(df.columns[i])\n",
    "    return ls_cont,ls_disc"
   ]
  },
  {
   "cell_type": "code",
   "execution_count": 6,
   "metadata": {},
   "outputs": [],
   "source": [
    "disc=[]\n",
    "cont = []\n",
    "def variable(var):\n",
    "    print(var)\n",
    "    print(df[var].head(5))"
   ]
  },
  {
   "cell_type": "code",
   "execution_count": 9,
   "metadata": {},
   "outputs": [
    {
     "ename": "NameError",
     "evalue": "name 'ls_cont' is not defined",
     "output_type": "error",
     "traceback": [
      "\u001b[0;31m---------------------------------------------------------------------------\u001b[0m",
      "\u001b[0;31mNameError\u001b[0m                                 Traceback (most recent call last)",
      "\u001b[0;32m<ipython-input-9-3c2793ebd95f>\u001b[0m in \u001b[0;36m<module>\u001b[0;34m\u001b[0m\n\u001b[0;32m----> 1\u001b[0;31m \u001b[0mvariable\u001b[0m\u001b[0;34m(\u001b[0m\u001b[0mls_cont\u001b[0m\u001b[0;34m[\u001b[0m\u001b[0;36m3\u001b[0m\u001b[0;34m]\u001b[0m\u001b[0;34m)\u001b[0m\u001b[0;34m\u001b[0m\u001b[0;34m\u001b[0m\u001b[0m\n\u001b[0m",
      "\u001b[0;31mNameError\u001b[0m: name 'ls_cont' is not defined"
     ]
    }
   ],
   "source": [
    "variable(ls_cont[3])"
   ]
  },
  {
   "cell_type": "code",
   "execution_count": 10,
   "metadata": {},
   "outputs": [],
   "source": [
    "df[\"gameId\"] = df[\"gameId\"].astype(str)\n",
    "df[\"platformId\"] = df[\"platformId\"].astype(str)\n",
    "df[\"gameDuration\"] = df[\"gameDuration\"].astype(str)\n",
    "df[\"gameCreation\"] = df[\"gameCreation\"].astype(str)\n",
    "df[\"queueId\"] = df[\"queueId\"].astype(str)\n",
    "df[\"mapId\"] = df[\"mapId\"].astype(str)\n",
    "df[\"seasonId\"] = df[\"seasonId\"].astype(str)\n",
    "df[\"teamId\"] = df[\"teamId\"].astype(str)\n",
    "df[\"participantId\"] = df[\"participantId\"].astype(str)\n",
    "df[\"championId\"] = df[\"championId\"].astype(str)"
   ]
  },
  {
   "cell_type": "code",
   "execution_count": 11,
   "metadata": {},
   "outputs": [
    {
     "data": {
      "text/plain": [
       "gameId                                 object\n",
       "platformId                             object\n",
       "gameCreation                           object\n",
       "gameDuration                           object\n",
       "queueId                                object\n",
       "mapId                                  object\n",
       "seasonId                               object\n",
       "gameVersion                            object\n",
       "gameMode                               object\n",
       "gameType                               object\n",
       "teamId                                 object\n",
       "win                                      bool\n",
       "firstBlood                               bool\n",
       "firstTower                               bool\n",
       "firstInhibitor                           bool\n",
       "firstBaron                               bool\n",
       "firstDragon                              bool\n",
       "firstRiftHerald                          bool\n",
       "towerKills                              int64\n",
       "inhibitorKills                          int64\n",
       "baronKills                              int64\n",
       "dragonKills                             int64\n",
       "vilemawKills                            int64\n",
       "riftHeraldKills                         int64\n",
       "dominionVictoryScore                    int64\n",
       "participantId                          object\n",
       "championId                             object\n",
       "spell1Id                                int64\n",
       "spell2Id                                int64\n",
       "highestAchievedSeasonTier              object\n",
       "item0                                   int64\n",
       "item1                                   int64\n",
       "item2                                   int64\n",
       "item3                                   int64\n",
       "item4                                   int64\n",
       "item5                                   int64\n",
       "item6                                   int64\n",
       "kills                                   int64\n",
       "deaths                                  int64\n",
       "assists                                 int64\n",
       "largestKillingSpree                     int64\n",
       "largestMultiKill                        int64\n",
       "killingSprees                           int64\n",
       "longestTimeSpentLiving                  int64\n",
       "doubleKills                             int64\n",
       "tripleKills                             int64\n",
       "quadraKills                             int64\n",
       "pentaKills                              int64\n",
       "unrealKills                             int64\n",
       "totalDamageDealt                        int64\n",
       "magicDamageDealt                        int64\n",
       "physicalDamageDealt                     int64\n",
       "trueDamageDealt                         int64\n",
       "largestCriticalStrike                   int64\n",
       "totalDamageDealtToChampions             int64\n",
       "magicDamageDealtToChampions             int64\n",
       "physicalDamageDealtToChampions          int64\n",
       "trueDamageDealtToChampions              int64\n",
       "totalHeal                               int64\n",
       "totalUnitsHealed                        int64\n",
       "damageSelfMitigated                     int64\n",
       "damageDealtToObjectives                 int64\n",
       "damageDealtToTurrets                    int64\n",
       "visionScore                             int64\n",
       "timeCCingOthers                         int64\n",
       "totalDamageTaken                        int64\n",
       "magicalDamageTaken                      int64\n",
       "physicalDamageTaken                     int64\n",
       "trueDamageTaken                         int64\n",
       "goldEarned                              int64\n",
       "goldSpent                               int64\n",
       "turretKills                             int64\n",
       "totalMinionsKilled                      int64\n",
       "neutralMinionsKilled                    int64\n",
       "neutralMinionsKilledTeamJungle          int64\n",
       "neutralMinionsKilledEnemyJungle         int64\n",
       "totalTimeCrowdControlDealt              int64\n",
       "champLevel                              int64\n",
       "visionWardsBoughtInGame                 int64\n",
       "sightWardsBoughtInGame                  int64\n",
       "wardsPlaced                             int64\n",
       "wardsKilled                             int64\n",
       "firstBloodKill                         object\n",
       "firstBloodAssist                       object\n",
       "firstTowerKill                         object\n",
       "firstTowerAssist                       object\n",
       "firstInhibitorKill                     object\n",
       "firstInhibitorAssist                   object\n",
       "combatPlayerScore                       int64\n",
       "objectivePlayerScore                    int64\n",
       "totalPlayerScore                        int64\n",
       "totalScoreRank                          int64\n",
       "playerScore0                            int64\n",
       "playerScore1                            int64\n",
       "playerScore2                            int64\n",
       "playerScore3                            int64\n",
       "playerScore4                            int64\n",
       "playerScore5                            int64\n",
       "playerScore6                            int64\n",
       "playerScore7                            int64\n",
       "playerScore8                            int64\n",
       "playerScore9                            int64\n",
       "perk0                                 float64\n",
       "perk0Var1                             float64\n",
       "perk0Var2                             float64\n",
       "perk0Var3                             float64\n",
       "perk1                                 float64\n",
       "perk1Var1                             float64\n",
       "perk1Var2                             float64\n",
       "perk1Var3                             float64\n",
       "perk2                                 float64\n",
       "perk2Var1                             float64\n",
       "perk2Var2                             float64\n",
       "perk2Var3                             float64\n",
       "perk3                                 float64\n",
       "perk3Var1                             float64\n",
       "perk3Var2                             float64\n",
       "perk3Var3                             float64\n",
       "perk4                                 float64\n",
       "perk4Var1                             float64\n",
       "perk4Var2                             float64\n",
       "perk4Var3                             float64\n",
       "perk5                                 float64\n",
       "perk5Var1                             float64\n",
       "perk5Var2                             float64\n",
       "perk5Var3                             float64\n",
       "perkPrimaryStyle                      float64\n",
       "perkSubStyle                          float64\n",
       "statPerk0                             float64\n",
       "statPerk1                             float64\n",
       "statPerk2                             float64\n",
       "creepsPerMinDeltas_10-20              float64\n",
       "creepsPerMinDeltas_0-10               float64\n",
       "creepsPerMinDeltas_20-30              float64\n",
       "xpPerMinDeltas_10-20                  float64\n",
       "xpPerMinDeltas_0-10                   float64\n",
       "xpPerMinDeltas_20-30                  float64\n",
       "goldPerMinDeltas_10-20                float64\n",
       "goldPerMinDeltas_0-10                 float64\n",
       "goldPerMinDeltas_20-30                float64\n",
       "csDiffPerMinDeltas_10-20              float64\n",
       "csDiffPerMinDeltas_0-10               float64\n",
       "csDiffPerMinDeltas_20-30              float64\n",
       "xpDiffPerMinDeltas_10-20              float64\n",
       "xpDiffPerMinDeltas_0-10               float64\n",
       "xpDiffPerMinDeltas_20-30              float64\n",
       "damageTakenPerMinDeltas_10-20         float64\n",
       "damageTakenPerMinDeltas_0-10          float64\n",
       "damageTakenPerMinDeltas_20-30         float64\n",
       "damageTakenDiffPerMinDeltas_10-20     float64\n",
       "damageTakenDiffPerMinDeltas_0-10      float64\n",
       "damageTakenDiffPerMinDeltas_20-30     float64\n",
       "lane                                   object\n",
       "role                                   object\n",
       "creepsPerMinDeltas_30-end             float64\n",
       "xpPerMinDeltas_30-end                 float64\n",
       "goldPerMinDeltas_30-end               float64\n",
       "damageTakenPerMinDeltas_30-end        float64\n",
       "csDiffPerMinDeltas_30-end             float64\n",
       "xpDiffPerMinDeltas_30-end             float64\n",
       "damageTakenDiffPerMinDeltas_30-end    float64\n",
       "dtype: object"
      ]
     },
     "execution_count": 11,
     "metadata": {},
     "output_type": "execute_result"
    }
   ],
   "source": [
    "df.dtypes"
   ]
  },
  {
   "cell_type": "code",
   "execution_count": 12,
   "metadata": {},
   "outputs": [],
   "source": [
    "ls_cont,ls_disc=separateVarCD(df)"
   ]
  },
  {
   "cell_type": "code",
   "execution_count": 13,
   "metadata": {},
   "outputs": [
    {
     "data": {
      "text/plain": [
       "29"
      ]
     },
     "execution_count": 13,
     "metadata": {},
     "output_type": "execute_result"
    }
   ],
   "source": [
    "len(ls_disc)"
   ]
  },
  {
   "cell_type": "code",
   "execution_count": 14,
   "metadata": {},
   "outputs": [
    {
     "data": {
      "text/plain": [
       "132"
      ]
     },
     "execution_count": 14,
     "metadata": {},
     "output_type": "execute_result"
    }
   ],
   "source": [
    "len(ls_cont)"
   ]
  },
  {
   "cell_type": "code",
   "execution_count": 15,
   "metadata": {},
   "outputs": [],
   "source": [
    "train,test=train_test_split(df, test_size=0.30)"
   ]
  },
  {
   "cell_type": "code",
   "execution_count": 16,
   "metadata": {},
   "outputs": [
    {
     "data": {
      "text/plain": [
       "(70, 161)"
      ]
     },
     "execution_count": 16,
     "metadata": {},
     "output_type": "execute_result"
    }
   ],
   "source": [
    "train.shape"
   ]
  },
  {
   "cell_type": "code",
   "execution_count": 17,
   "metadata": {},
   "outputs": [
    {
     "data": {
      "text/plain": [
       "(30, 161)"
      ]
     },
     "execution_count": 17,
     "metadata": {},
     "output_type": "execute_result"
    }
   ],
   "source": [
    "test.shape"
   ]
  },
  {
   "cell_type": "code",
   "execution_count": 18,
   "metadata": {},
   "outputs": [],
   "source": [
    "train.to_csv('./csv/train.csv')\n",
    "test.to_csv('./csv/test.csv')"
   ]
  }
 ],
 "metadata": {
  "kernelspec": {
   "display_name": "unam",
   "language": "python",
   "name": "unam"
  },
  "language_info": {
   "codemirror_mode": {
    "name": "ipython",
    "version": 3
   },
   "file_extension": ".py",
   "mimetype": "text/x-python",
   "name": "python",
   "nbconvert_exporter": "python",
   "pygments_lexer": "ipython3",
   "version": "3.7.3"
  }
 },
 "nbformat": 4,
 "nbformat_minor": 2
}
