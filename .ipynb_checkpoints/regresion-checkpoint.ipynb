{
 "cells": [
  {
   "cell_type": "code",
   "execution_count": 104,
   "metadata": {},
   "outputs": [],
   "source": [
    "import pandas as pd\n",
    "\n",
    "from sklearn.model_selection import cross_val_score\n",
    "from sklearn.linear_model import LinearRegression, Lars, ElasticNet, Lasso, Ridge, BayesianRidge\n",
    "from sklearn.model_selection import train_test_split\n",
    "from sklearn.model_selection import GridSearchCV, RandomizedSearchCV\n",
    "\n",
    "import math\n",
    "import numpy as np\n",
    "import pygal\n",
    "import os\n",
    "from IPython.display import display, HTML\n",
    "%matplotlib inline\n",
    "\n",
    "base_html = \"\"\"\n",
    "<!DOCTYPE html>\n",
    "<html>\n",
    "  <head>\n",
    "  <script type=\"text/javascript\" src=\"http://kozea.github.com/pygal.js/javascripts/svg.jquery.js\"></script>\n",
    "  <script type=\"text/javascript\" src=\"https://kozea.github.io/pygal.js/2.0.x/pygal-tooltips.min.js\"\"></script>\n",
    "  </head>\n",
    "  <body>\n",
    "    <figure>\n",
    "      {rendered_chart}\n",
    "    </figure>\n",
    "  </body>\n",
    "</html>\n",
    "\"\"\""
   ]
  },
  {
   "cell_type": "code",
   "execution_count": 105,
   "metadata": {},
   "outputs": [],
   "source": [
    "\n",
    "df=pd.read_csv('./csv/data.csv')"
   ]
  },
  {
   "cell_type": "code",
   "execution_count": 106,
   "metadata": {},
   "outputs": [
    {
     "data": {
      "text/plain": [
       "0      1411\n",
       "1      1506\n",
       "2      2267\n",
       "3      1707\n",
       "4       759\n",
       "       ... \n",
       "253    1215\n",
       "254    1082\n",
       "255    1297\n",
       "256    1450\n",
       "257    1203\n",
       "Name: gameDuration, Length: 258, dtype: int64"
      ]
     },
     "execution_count": 106,
     "metadata": {},
     "output_type": "execute_result"
    }
   ],
   "source": [
    "df[\"gameDuration\"]"
   ]
  },
  {
   "cell_type": "code",
   "execution_count": 107,
   "metadata": {},
   "outputs": [],
   "source": [
    "def plot_hist(df,value,route=''):\n",
    "    info=df[value].describe()\n",
    "    r=info[\"max\"]-info[\"min\"]\n",
    "    k=math.ceil(1+3.322*math.log10(info[\"count\"]))\n",
    "    a=int(round(r/k))\n",
    "    ranges=[]\n",
    "    for i in range(int(info[\"min\"]),int(info[\"max\"]+2),a):\n",
    "        ranges.append(i)\n",
    "    aux=np.histogram(df[value], bins=ranges)\n",
    "    histograma=[]\n",
    "    for i in range(len(aux[0])):\n",
    "        histograma.append([aux[0][i],aux[1][i],aux[1][i+1]])\n",
    "    hist = pygal.Histogram()\n",
    "    hist.add(value,histograma)\n",
    "    if route!='':\n",
    "        return hist.render_to_png(route)\n",
    "    display(HTML(base_html.format(rendered_chart=hist.render(is_unicode=True))))"
   ]
  },
  {
   "cell_type": "code",
   "execution_count": 108,
   "metadata": {},
   "outputs": [
    {
     "data": {
      "text/html": [
       "\n",
       "<!DOCTYPE html>\n",
       "<html>\n",
       "  <head>\n",
       "  <script type=\"text/javascript\" src=\"http://kozea.github.com/pygal.js/javascripts/svg.jquery.js\"></script>\n",
       "  <script type=\"text/javascript\" src=\"https://kozea.github.io/pygal.js/2.0.x/pygal-tooltips.min.js\"\"></script>\n",
       "  </head>\n",
       "  <body>\n",
       "    <figure>\n",
       "      <?xml version='1.0' encoding='utf-8'?>\n",
       "<svg xmlns:xlink=\"http://www.w3.org/1999/xlink\" class=\"pygal-chart\" id=\"chart-97bccc35-46ca-4a7a-b89a-953052931736\" viewBox=\"0 0 800 600\" xmlns=\"http://www.w3.org/2000/svg\"><!--Generated with pygal 2.4.0 (etree) ©Kozea 2012-2016 on 2019-11-04--><!--http://pygal.org--><!--http://github.com/Kozea/pygal--><defs><style type=\"text/css\">#chart-97bccc35-46ca-4a7a-b89a-953052931736{-webkit-user-select:none;-webkit-font-smoothing:antialiased;font-family:Consolas,\"Liberation Mono\",Menlo,Courier,monospace}#chart-97bccc35-46ca-4a7a-b89a-953052931736 .title{font-family:Consolas,\"Liberation Mono\",Menlo,Courier,monospace;font-size:16px}#chart-97bccc35-46ca-4a7a-b89a-953052931736 .legends .legend text{font-family:Consolas,\"Liberation Mono\",Menlo,Courier,monospace;font-size:14px}#chart-97bccc35-46ca-4a7a-b89a-953052931736 .axis text{font-family:Consolas,\"Liberation Mono\",Menlo,Courier,monospace;font-size:10px}#chart-97bccc35-46ca-4a7a-b89a-953052931736 .axis text.major{font-family:Consolas,\"Liberation Mono\",Menlo,Courier,monospace;font-size:10px}#chart-97bccc35-46ca-4a7a-b89a-953052931736 .text-overlay text.value{font-family:Consolas,\"Liberation Mono\",Menlo,Courier,monospace;font-size:16px}#chart-97bccc35-46ca-4a7a-b89a-953052931736 .text-overlay text.label{font-family:Consolas,\"Liberation Mono\",Menlo,Courier,monospace;font-size:10px}#chart-97bccc35-46ca-4a7a-b89a-953052931736 .tooltip{font-family:Consolas,\"Liberation Mono\",Menlo,Courier,monospace;font-size:14px}#chart-97bccc35-46ca-4a7a-b89a-953052931736 text.no_data{font-family:Consolas,\"Liberation Mono\",Menlo,Courier,monospace;font-size:64px}\n",
       "#chart-97bccc35-46ca-4a7a-b89a-953052931736{background-color:rgba(249,249,249,1)}#chart-97bccc35-46ca-4a7a-b89a-953052931736 path,#chart-97bccc35-46ca-4a7a-b89a-953052931736 line,#chart-97bccc35-46ca-4a7a-b89a-953052931736 rect,#chart-97bccc35-46ca-4a7a-b89a-953052931736 circle{-webkit-transition:150ms;-moz-transition:150ms;transition:150ms}#chart-97bccc35-46ca-4a7a-b89a-953052931736 .graph &gt; .background{fill:rgba(249,249,249,1)}#chart-97bccc35-46ca-4a7a-b89a-953052931736 .plot &gt; .background{fill:rgba(255,255,255,1)}#chart-97bccc35-46ca-4a7a-b89a-953052931736 .graph{fill:rgba(0,0,0,.87)}#chart-97bccc35-46ca-4a7a-b89a-953052931736 text.no_data{fill:rgba(0,0,0,1)}#chart-97bccc35-46ca-4a7a-b89a-953052931736 .title{fill:rgba(0,0,0,1)}#chart-97bccc35-46ca-4a7a-b89a-953052931736 .legends .legend text{fill:rgba(0,0,0,.87)}#chart-97bccc35-46ca-4a7a-b89a-953052931736 .legends .legend:hover text{fill:rgba(0,0,0,1)}#chart-97bccc35-46ca-4a7a-b89a-953052931736 .axis .line{stroke:rgba(0,0,0,1)}#chart-97bccc35-46ca-4a7a-b89a-953052931736 .axis .guide.line{stroke:rgba(0,0,0,.54)}#chart-97bccc35-46ca-4a7a-b89a-953052931736 .axis .major.line{stroke:rgba(0,0,0,.87)}#chart-97bccc35-46ca-4a7a-b89a-953052931736 .axis text.major{fill:rgba(0,0,0,1)}#chart-97bccc35-46ca-4a7a-b89a-953052931736 .axis.y .guides:hover .guide.line,#chart-97bccc35-46ca-4a7a-b89a-953052931736 .line-graph .axis.x .guides:hover .guide.line,#chart-97bccc35-46ca-4a7a-b89a-953052931736 .stackedline-graph .axis.x .guides:hover .guide.line,#chart-97bccc35-46ca-4a7a-b89a-953052931736 .xy-graph .axis.x .guides:hover .guide.line{stroke:rgba(0,0,0,1)}#chart-97bccc35-46ca-4a7a-b89a-953052931736 .axis .guides:hover text{fill:rgba(0,0,0,1)}#chart-97bccc35-46ca-4a7a-b89a-953052931736 .reactive{fill-opacity:.7;stroke-opacity:.8}#chart-97bccc35-46ca-4a7a-b89a-953052931736 .ci{stroke:rgba(0,0,0,.87)}#chart-97bccc35-46ca-4a7a-b89a-953052931736 .reactive.active,#chart-97bccc35-46ca-4a7a-b89a-953052931736 .active .reactive{fill-opacity:.8;stroke-opacity:.9;stroke-width:4}#chart-97bccc35-46ca-4a7a-b89a-953052931736 .ci .reactive.active{stroke-width:1.5}#chart-97bccc35-46ca-4a7a-b89a-953052931736 .series text{fill:rgba(0,0,0,1)}#chart-97bccc35-46ca-4a7a-b89a-953052931736 .tooltip rect{fill:rgba(255,255,255,1);stroke:rgba(0,0,0,1);-webkit-transition:opacity 150ms;-moz-transition:opacity 150ms;transition:opacity 150ms}#chart-97bccc35-46ca-4a7a-b89a-953052931736 .tooltip .label{fill:rgba(0,0,0,.87)}#chart-97bccc35-46ca-4a7a-b89a-953052931736 .tooltip .label{fill:rgba(0,0,0,.87)}#chart-97bccc35-46ca-4a7a-b89a-953052931736 .tooltip .legend{font-size:.8em;fill:rgba(0,0,0,.54)}#chart-97bccc35-46ca-4a7a-b89a-953052931736 .tooltip .x_label{font-size:.6em;fill:rgba(0,0,0,1)}#chart-97bccc35-46ca-4a7a-b89a-953052931736 .tooltip .xlink{font-size:.5em;text-decoration:underline}#chart-97bccc35-46ca-4a7a-b89a-953052931736 .tooltip .value{font-size:1.5em}#chart-97bccc35-46ca-4a7a-b89a-953052931736 .bound{font-size:.5em}#chart-97bccc35-46ca-4a7a-b89a-953052931736 .max-value{font-size:.75em;fill:rgba(0,0,0,.54)}#chart-97bccc35-46ca-4a7a-b89a-953052931736 .map-element{fill:rgba(255,255,255,1);stroke:rgba(0,0,0,.54) !important}#chart-97bccc35-46ca-4a7a-b89a-953052931736 .map-element .reactive{fill-opacity:inherit;stroke-opacity:inherit}#chart-97bccc35-46ca-4a7a-b89a-953052931736 .color-0,#chart-97bccc35-46ca-4a7a-b89a-953052931736 .color-0 a:visited{stroke:#F44336;fill:#F44336}#chart-97bccc35-46ca-4a7a-b89a-953052931736 .text-overlay .color-0 text{fill:black}\n",
       "#chart-97bccc35-46ca-4a7a-b89a-953052931736 text.no_data{text-anchor:middle}#chart-97bccc35-46ca-4a7a-b89a-953052931736 .guide.line{fill:none}#chart-97bccc35-46ca-4a7a-b89a-953052931736 .centered{text-anchor:middle}#chart-97bccc35-46ca-4a7a-b89a-953052931736 .title{text-anchor:middle}#chart-97bccc35-46ca-4a7a-b89a-953052931736 .legends .legend text{fill-opacity:1}#chart-97bccc35-46ca-4a7a-b89a-953052931736 .axis.x text{text-anchor:middle}#chart-97bccc35-46ca-4a7a-b89a-953052931736 .axis.x:not(.web) text[transform]{text-anchor:start}#chart-97bccc35-46ca-4a7a-b89a-953052931736 .axis.x:not(.web) text[transform].backwards{text-anchor:end}#chart-97bccc35-46ca-4a7a-b89a-953052931736 .axis.y text{text-anchor:end}#chart-97bccc35-46ca-4a7a-b89a-953052931736 .axis.y text[transform].backwards{text-anchor:start}#chart-97bccc35-46ca-4a7a-b89a-953052931736 .axis.y2 text{text-anchor:start}#chart-97bccc35-46ca-4a7a-b89a-953052931736 .axis.y2 text[transform].backwards{text-anchor:end}#chart-97bccc35-46ca-4a7a-b89a-953052931736 .axis .guide.line{stroke-dasharray:4,4}#chart-97bccc35-46ca-4a7a-b89a-953052931736 .axis .major.guide.line{stroke-dasharray:6,6}#chart-97bccc35-46ca-4a7a-b89a-953052931736 .horizontal .axis.y .guide.line,#chart-97bccc35-46ca-4a7a-b89a-953052931736 .horizontal .axis.y2 .guide.line,#chart-97bccc35-46ca-4a7a-b89a-953052931736 .vertical .axis.x .guide.line{opacity:0}#chart-97bccc35-46ca-4a7a-b89a-953052931736 .horizontal .axis.always_show .guide.line,#chart-97bccc35-46ca-4a7a-b89a-953052931736 .vertical .axis.always_show .guide.line{opacity:1 !important}#chart-97bccc35-46ca-4a7a-b89a-953052931736 .axis.y .guides:hover .guide.line,#chart-97bccc35-46ca-4a7a-b89a-953052931736 .axis.y2 .guides:hover .guide.line,#chart-97bccc35-46ca-4a7a-b89a-953052931736 .axis.x .guides:hover .guide.line{opacity:1}#chart-97bccc35-46ca-4a7a-b89a-953052931736 .axis .guides:hover text{opacity:1}#chart-97bccc35-46ca-4a7a-b89a-953052931736 .nofill{fill:none}#chart-97bccc35-46ca-4a7a-b89a-953052931736 .subtle-fill{fill-opacity:.2}#chart-97bccc35-46ca-4a7a-b89a-953052931736 .dot{stroke-width:1px;fill-opacity:1}#chart-97bccc35-46ca-4a7a-b89a-953052931736 .dot.active{stroke-width:5px}#chart-97bccc35-46ca-4a7a-b89a-953052931736 .dot.negative{fill:transparent}#chart-97bccc35-46ca-4a7a-b89a-953052931736 text,#chart-97bccc35-46ca-4a7a-b89a-953052931736 tspan{stroke:none !important}#chart-97bccc35-46ca-4a7a-b89a-953052931736 .series text.active{opacity:1}#chart-97bccc35-46ca-4a7a-b89a-953052931736 .tooltip rect{fill-opacity:.95;stroke-width:.5}#chart-97bccc35-46ca-4a7a-b89a-953052931736 .tooltip text{fill-opacity:1}#chart-97bccc35-46ca-4a7a-b89a-953052931736 .showable{visibility:hidden}#chart-97bccc35-46ca-4a7a-b89a-953052931736 .showable.shown{visibility:visible}#chart-97bccc35-46ca-4a7a-b89a-953052931736 .gauge-background{fill:rgba(229,229,229,1);stroke:none}#chart-97bccc35-46ca-4a7a-b89a-953052931736 .bg-lines{stroke:rgba(249,249,249,1);stroke-width:2px}</style><script type=\"text/javascript\">window.pygal = window.pygal || {};window.pygal.config = window.pygal.config || {};window.pygal.config['97bccc35-46ca-4a7a-b89a-953052931736'] = {\"allow_interruptions\": false, \"box_mode\": \"extremes\", \"classes\": [\"pygal-chart\"], \"css\": [\"file://style.css\", \"file://graph.css\"], \"defs\": [], \"disable_xml_declaration\": false, \"dots_size\": 2.5, \"dynamic_print_values\": false, \"explicit_size\": false, \"fill\": false, \"force_uri_protocol\": \"https\", \"formatter\": null, \"half_pie\": false, \"height\": 600, \"include_x_axis\": false, \"inner_radius\": 0, \"interpolate\": null, \"interpolation_parameters\": {}, \"interpolation_precision\": 250, \"inverse_y_axis\": false, \"js\": [\"//kozea.github.io/pygal.js/2.0.x/pygal-tooltips.min.js\"], \"legend_at_bottom\": false, \"legend_at_bottom_columns\": null, \"legend_box_size\": 12, \"logarithmic\": false, \"margin\": 20, \"margin_bottom\": null, \"margin_left\": null, \"margin_right\": null, \"margin_top\": null, \"max_scale\": 16, \"min_scale\": 4, \"missing_value_fill_truncation\": \"x\", \"no_data_text\": \"No data\", \"no_prefix\": false, \"order_min\": null, \"pretty_print\": false, \"print_labels\": false, \"print_values\": false, \"print_values_position\": \"center\", \"print_zeroes\": true, \"range\": null, \"rounded_bars\": null, \"secondary_range\": null, \"show_dots\": true, \"show_legend\": true, \"show_minor_x_labels\": true, \"show_minor_y_labels\": true, \"show_only_major_dots\": false, \"show_x_guides\": false, \"show_x_labels\": true, \"show_y_guides\": true, \"show_y_labels\": true, \"spacing\": 10, \"stack_from_top\": false, \"strict\": false, \"stroke\": true, \"stroke_style\": null, \"style\": {\"background\": \"rgba(249, 249, 249, 1)\", \"ci_colors\": [], \"colors\": [\"#F44336\", \"#3F51B5\", \"#009688\", \"#FFC107\", \"#FF5722\", \"#9C27B0\", \"#03A9F4\", \"#8BC34A\", \"#FF9800\", \"#E91E63\", \"#2196F3\", \"#4CAF50\", \"#FFEB3B\", \"#673AB7\", \"#00BCD4\", \"#CDDC39\", \"#9E9E9E\", \"#607D8B\"], \"font_family\": \"Consolas, \\\"Liberation Mono\\\", Menlo, Courier, monospace\", \"foreground\": \"rgba(0, 0, 0, .87)\", \"foreground_strong\": \"rgba(0, 0, 0, 1)\", \"foreground_subtle\": \"rgba(0, 0, 0, .54)\", \"guide_stroke_dasharray\": \"4,4\", \"label_font_family\": \"Consolas, \\\"Liberation Mono\\\", Menlo, Courier, monospace\", \"label_font_size\": 10, \"legend_font_family\": \"Consolas, \\\"Liberation Mono\\\", Menlo, Courier, monospace\", \"legend_font_size\": 14, \"major_guide_stroke_dasharray\": \"6,6\", \"major_label_font_family\": \"Consolas, \\\"Liberation Mono\\\", Menlo, Courier, monospace\", \"major_label_font_size\": 10, \"no_data_font_family\": \"Consolas, \\\"Liberation Mono\\\", Menlo, Courier, monospace\", \"no_data_font_size\": 64, \"opacity\": \".7\", \"opacity_hover\": \".8\", \"plot_background\": \"rgba(255, 255, 255, 1)\", \"stroke_opacity\": \".8\", \"stroke_opacity_hover\": \".9\", \"title_font_family\": \"Consolas, \\\"Liberation Mono\\\", Menlo, Courier, monospace\", \"title_font_size\": 16, \"tooltip_font_family\": \"Consolas, \\\"Liberation Mono\\\", Menlo, Courier, monospace\", \"tooltip_font_size\": 14, \"transition\": \"150ms\", \"value_background\": \"rgba(229, 229, 229, 1)\", \"value_colors\": [], \"value_font_family\": \"Consolas, \\\"Liberation Mono\\\", Menlo, Courier, monospace\", \"value_font_size\": 16, \"value_label_font_family\": \"Consolas, \\\"Liberation Mono\\\", Menlo, Courier, monospace\", \"value_label_font_size\": 10}, \"title\": null, \"tooltip_border_radius\": 0, \"tooltip_fancy_mode\": true, \"truncate_label\": null, \"truncate_legend\": null, \"width\": 800, \"x_label_rotation\": 0, \"x_labels\": null, \"x_labels_major\": null, \"x_labels_major_count\": null, \"x_labels_major_every\": null, \"x_title\": null, \"xrange\": null, \"y_label_rotation\": 0, \"y_labels\": null, \"y_labels_major\": null, \"y_labels_major_count\": null, \"y_labels_major_every\": null, \"y_title\": null, \"zero\": 0, \"legends\": [\"gameDuration\"]}</script><script type=\"text/javascript\" xlink:href=\"https://kozea.github.io/pygal.js/2.0.x/pygal-tooltips.min.js\" /></defs><title>Pygal</title><g class=\"graph histogram-graph vertical\"><rect class=\"background\" height=\"600\" width=\"800\" x=\"0\" y=\"0\" /><g class=\"plot\" transform=\"translate(164, 20)\"><rect class=\"background\" height=\"540\" width=\"615.2\" x=\"0\" y=\"0\" /><g class=\"axis y always_show\"><g class=\"guides\"><path class=\"axis major line\" d=\"M0.000000 529.615385 h615.200000\" /><text class=\"major\" x=\"-5\" y=\"533.1153846153846\">0</text><title>0</title></g><g class=\"guides\"><path class=\"guide line\" d=\"M0.000000 441.610169 h615.200000\" /><text class=\"\" x=\"-5\" y=\"445.1101694915254\">10</text><title>10</title></g><g class=\"guides\"><path class=\"guide line\" d=\"M0.000000 353.604954 h615.200000\" /><text class=\"\" x=\"-5\" y=\"357.1049543676662\">20</text><title>20</title></g><g class=\"guides\"><path class=\"guide line\" d=\"M0.000000 265.599739 h615.200000\" /><text class=\"\" x=\"-5\" y=\"269.09973924380705\">30</text><title>30</title></g><g class=\"guides\"><path class=\"guide line\" d=\"M0.000000 177.594524 h615.200000\" /><text class=\"\" x=\"-5\" y=\"181.09452411994783\">40</text><title>40</title></g><g class=\"guides\"><path class=\"major guide line\" d=\"M0.000000 89.589309 h615.200000\" /><text class=\"major\" x=\"-5\" y=\"93.08930899608862\">50</text><title>50</title></g></g><g class=\"axis x\"><path class=\"line\" d=\"M0.000000 0.000000 v540.000000\" /><g class=\"guides\"><path class=\"guide line\" d=\"M30.136875 0.000000 v540.000000\" /><text class=\"\" x=\"30.13687453323377\" y=\"555.0\">800</text><title>800</title></g><g class=\"guides\"><path class=\"guide line\" d=\"M101.925523 0.000000 v540.000000\" /><text class=\"\" x=\"101.9255227781927\" y=\"555.0\">1000</text><title>1000</title></g><g class=\"guides\"><path class=\"guide line\" d=\"M173.714171 0.000000 v540.000000\" /><text class=\"\" x=\"173.7141710231516\" y=\"555.0\">1200</text><title>1200</title></g><g class=\"guides\"><path class=\"guide line\" d=\"M245.502819 0.000000 v540.000000\" /><text class=\"\" x=\"245.50281926811056\" y=\"555.0\">1400</text><title>1400</title></g><g class=\"guides\"><path class=\"guide line\" d=\"M317.291468 0.000000 v540.000000\" /><text class=\"\" x=\"317.29146751306945\" y=\"555.0\">1600</text><title>1600</title></g><g class=\"guides\"><path class=\"guide line\" d=\"M389.080116 0.000000 v540.000000\" /><text class=\"\" x=\"389.0801157580284\" y=\"555.0\">1800</text><title>1800</title></g><g class=\"guides\"><path class=\"guide line\" d=\"M460.868764 0.000000 v540.000000\" /><text class=\"\" x=\"460.8687640029873\" y=\"555.0\">2000</text><title>2000</title></g><g class=\"guides\"><path class=\"guide line\" d=\"M532.657412 0.000000 v540.000000\" /><text class=\"\" x=\"532.6574122479462\" y=\"555.0\">2200</text><title>2200</title></g></g><g class=\"series serie-0 color-0\"><g class=\"histbars\"><g class=\"histbar\"><rect class=\"rect reactive tooltip-trigger\" height=\"44.00260756192961\" rx=\"0\" ry=\"0\" width=\"73.9423076923077\" x=\"11.830769230769244\" y=\"485.61277705345503\" /><desc class=\"value\">5: 749</desc><desc class=\"x centered\">48.80192307692309</desc><desc class=\"y centered\">507.61408083441984</desc></g><g class=\"histbar\"><rect class=\"rect reactive tooltip-trigger\" height=\"176.01043024771843\" rx=\"0\" ry=\"0\" width=\"73.9423076923077\" x=\"85.77307692307694\" y=\"353.6049543676662\" /><desc class=\"value\">20: 955</desc><desc class=\"x centered\">122.7442307692308</desc><desc class=\"y centered\">441.6101694915254</desc></g><g class=\"histbar\"><rect class=\"rect reactive tooltip-trigger\" height=\"228.81355932203394\" rx=\"0\" ry=\"0\" width=\"73.94230769230771\" x=\"159.71538461538464\" y=\"300.8018252933507\" /><desc class=\"value\">26: 1161</desc><desc class=\"x centered\">196.68653846153848</desc><desc class=\"y centered\">415.2086049543677</desc></g><g class=\"histbar\"><rect class=\"rect reactive tooltip-trigger\" height=\"352.0208604954368\" rx=\"0\" ry=\"0\" width=\"73.94230769230768\" x=\"233.65769230769234\" y=\"177.59452411994783\" /><desc class=\"value\">40: 1367</desc><desc class=\"x centered\">270.6288461538462</desc><desc class=\"y centered\">353.6049543676662</desc></g><g class=\"histbar\"><rect class=\"rect reactive tooltip-trigger\" height=\"519.2307692307693\" rx=\"0\" ry=\"0\" width=\"73.94230769230768\" x=\"307.6\" y=\"10.384615384615358\" /><desc class=\"value\">59: 1573</desc><desc class=\"x centered\">344.57115384615383</desc><desc class=\"y centered\">270.0</desc></g><g class=\"histbar\"><rect class=\"rect reactive tooltip-trigger\" height=\"422.42503259452417\" rx=\"0\" ry=\"0\" width=\"73.94230769230768\" x=\"381.5423076923077\" y=\"107.19035202086047\" /><desc class=\"value\">48: 1779</desc><desc class=\"x centered\">418.51346153846157</desc><desc class=\"y centered\">318.40286831812256</desc></g><g class=\"histbar\"><rect class=\"rect reactive tooltip-trigger\" height=\"237.61408083441984\" rx=\"0\" ry=\"0\" width=\"73.94230769230774\" x=\"455.4846153846154\" y=\"292.0013037809648\" /><desc class=\"value\">27: 1985</desc><desc class=\"x centered\">492.45576923076925</desc><desc class=\"y centered\">410.8083441981747</desc></g><g class=\"histbar\"><rect class=\"rect reactive tooltip-trigger\" height=\"158.40938722294658\" rx=\"0\" ry=\"0\" width=\"73.94230769230762\" x=\"529.4269230769231\" y=\"371.20599739243806\" /><desc class=\"value\">18: 2191</desc><desc class=\"x centered\">566.3980769230769</desc><desc class=\"y centered\">450.4106910039113</desc></g></g></g></g><g class=\"titles\" /><g class=\"plot overlay\" transform=\"translate(164, 20)\"><g class=\"series serie-0 color-0\" /></g><g class=\"plot text-overlay\" transform=\"translate(164, 20)\"><g class=\"series serie-0 color-0\" /></g><g class=\"plot tooltip-overlay\" transform=\"translate(164, 20)\"><g class=\"tooltip\" style=\"opacity: 0\" transform=\"translate(0 0)\"><rect class=\"tooltip-box\" height=\"0\" rx=\"0\" ry=\"0\" width=\"0\" /><g class=\"text\" /></g></g><g class=\"legends\" transform=\"translate(10, 30)\"><g class=\"legend reactive activate-serie\" id=\"activate-serie-0\"><rect class=\"color-0 reactive\" height=\"12\" width=\"12\" x=\"0.0\" y=\"1.0\" /><text x=\"17.0\" y=\"11.2\">gameDuration</text></g></g><g class=\"legends\" transform=\"translate(790, 30)\" /></g></svg>\n",
       "    </figure>\n",
       "  </body>\n",
       "</html>\n"
      ],
      "text/plain": [
       "<IPython.core.display.HTML object>"
      ]
     },
     "metadata": {},
     "output_type": "display_data"
    }
   ],
   "source": [
    "plot_hist(df[df[\"gameDuration\"]>600],\"gameDuration\")"
   ]
  },
  {
   "cell_type": "code",
   "execution_count": 109,
   "metadata": {},
   "outputs": [],
   "source": [
    "df=df[df[\"gameDuration\"]>600]"
   ]
  },
  {
   "cell_type": "code",
   "execution_count": 110,
   "metadata": {},
   "outputs": [
    {
     "name": "stdout",
     "output_type": "stream",
     "text": [
      "gameId 0\n",
      "platformId 0\n",
      "gameCreation 0\n",
      "gameDuration 0\n",
      "queueId 0\n",
      "mapId 0\n",
      "seasonId 0\n",
      "gameVersion 0\n",
      "gameMode 0\n",
      "gameType 0\n",
      "teamId 0\n",
      "win 0\n",
      "firstBlood 0\n",
      "firstTower 0\n",
      "firstInhibitor 0\n",
      "firstBaron 0\n",
      "firstDragon 0\n",
      "firstRiftHerald 0\n",
      "towerKills 0\n",
      "inhibitorKills 0\n",
      "baronKills 0\n",
      "dragonKills 0\n",
      "vilemawKills 0\n",
      "riftHeraldKills 0\n",
      "dominionVictoryScore 0\n",
      "participantId 0\n",
      "championId 0\n",
      "spell1Id 0\n",
      "spell2Id 0\n",
      "item0 0\n",
      "item1 0\n",
      "item2 0\n",
      "item3 0\n",
      "item4 0\n",
      "item5 0\n",
      "item6 0\n",
      "kills 0\n",
      "deaths 0\n",
      "assists 0\n",
      "largestKillingSpree 0\n",
      "largestMultiKill 0\n",
      "killingSprees 0\n",
      "longestTimeSpentLiving 0\n",
      "doubleKills 0\n",
      "tripleKills 0\n",
      "quadraKills 0\n",
      "pentaKills 0\n",
      "unrealKills 0\n",
      "totalDamageDealt 0\n",
      "magicDamageDealt 0\n",
      "physicalDamageDealt 0\n",
      "trueDamageDealt 0\n",
      "largestCriticalStrike 0\n",
      "totalDamageDealtToChampions 0\n",
      "magicDamageDealtToChampions 0\n",
      "physicalDamageDealtToChampions 0\n",
      "trueDamageDealtToChampions 0\n",
      "totalHeal 0\n",
      "totalUnitsHealed 0\n",
      "damageSelfMitigated 0\n",
      "damageDealtToObjectives 0\n",
      "damageDealtToTurrets 0\n",
      "visionScore 0\n",
      "timeCCingOthers 0\n",
      "totalDamageTaken 0\n",
      "magicalDamageTaken 0\n",
      "physicalDamageTaken 0\n",
      "trueDamageTaken 0\n",
      "goldEarned 0\n",
      "goldSpent 0\n",
      "turretKills 0\n",
      "totalMinionsKilled 0\n",
      "neutralMinionsKilled 0\n",
      "neutralMinionsKilledTeamJungle 0\n",
      "neutralMinionsKilledEnemyJungle 0\n",
      "totalTimeCrowdControlDealt 0\n",
      "champLevel 0\n",
      "visionWardsBoughtInGame 0\n",
      "sightWardsBoughtInGame 0\n",
      "wardsPlaced 0\n",
      "wardsKilled 0\n",
      "firstBloodKill 0\n",
      "firstBloodAssist 0\n",
      "firstTowerKill 0\n",
      "firstTowerAssist 0\n",
      "firstInhibitorKill 23\n",
      "firstInhibitorAssist 23\n",
      "combatPlayerScore 0\n",
      "objectivePlayerScore 0\n",
      "totalPlayerScore 0\n",
      "totalScoreRank 0\n",
      "playerScore0 0\n",
      "playerScore1 0\n",
      "playerScore2 0\n",
      "playerScore3 0\n",
      "playerScore4 0\n",
      "playerScore5 0\n",
      "playerScore6 0\n",
      "playerScore7 0\n",
      "playerScore8 0\n",
      "playerScore9 0\n",
      "perk0 0\n",
      "perk0Var1 0\n",
      "perk0Var2 0\n",
      "perk0Var3 0\n",
      "perk1 0\n",
      "perk1Var1 0\n",
      "perk1Var2 0\n",
      "perk1Var3 0\n",
      "perk2 0\n",
      "perk2Var1 0\n",
      "perk2Var2 0\n",
      "perk2Var3 0\n",
      "perk3 0\n",
      "perk3Var1 0\n",
      "perk3Var2 0\n",
      "perk3Var3 0\n",
      "perk4 0\n",
      "perk4Var1 0\n",
      "perk4Var2 0\n",
      "perk4Var3 0\n",
      "perk5 0\n",
      "perk5Var1 0\n",
      "perk5Var2 0\n",
      "perk5Var3 0\n",
      "perkPrimaryStyle 0\n",
      "perkSubStyle 0\n",
      "statPerk0 0\n",
      "statPerk1 0\n",
      "statPerk2 0\n",
      "creepsPerMinDeltas_10-20 27\n",
      "creepsPerMinDeltas_0-10 0\n",
      "xpPerMinDeltas_10-20 27\n",
      "xpPerMinDeltas_0-10 0\n",
      "goldPerMinDeltas_10-20 27\n",
      "goldPerMinDeltas_0-10 0\n",
      "csDiffPerMinDeltas_10-20 88\n",
      "csDiffPerMinDeltas_0-10 61\n",
      "xpDiffPerMinDeltas_10-20 88\n",
      "xpDiffPerMinDeltas_0-10 61\n",
      "damageTakenPerMinDeltas_10-20 27\n",
      "damageTakenPerMinDeltas_0-10 0\n",
      "damageTakenDiffPerMinDeltas_10-20 88\n",
      "damageTakenDiffPerMinDeltas_0-10 61\n",
      "lane 0\n",
      "role 0\n",
      "creepsPerMinDeltas_30-end 215\n",
      "creepsPerMinDeltas_20-30 153\n",
      "xpPerMinDeltas_30-end 215\n",
      "xpPerMinDeltas_20-30 153\n",
      "goldPerMinDeltas_30-end 215\n",
      "goldPerMinDeltas_20-30 153\n",
      "csDiffPerMinDeltas_30-end 222\n",
      "csDiffPerMinDeltas_20-30 178\n",
      "xpDiffPerMinDeltas_30-end 222\n",
      "xpDiffPerMinDeltas_20-30 178\n",
      "damageTakenPerMinDeltas_30-end 215\n",
      "damageTakenPerMinDeltas_20-30 153\n",
      "damageTakenDiffPerMinDeltas_30-end 222\n",
      "damageTakenDiffPerMinDeltas_20-30 178\n",
      "highestAchievedSeasonTier 27\n"
     ]
    }
   ],
   "source": [
    "for i, j in zip(df.isna().sum().index, df.isna().sum()):\n",
    "    print(i,j)"
   ]
  },
  {
   "cell_type": "code",
   "execution_count": 111,
   "metadata": {},
   "outputs": [],
   "source": [
    "tgt=\"gameDuration\"\n",
    "ls_pred=[\"kills\",\"deaths\",\"assists\",\"turretKills\",\"totalDamageDealt\",\n",
    "\"magicDamageDealt\",\n",
    "\"physicalDamageDealt\",\n",
    "\"trueDamageDealt\",\n",
    "\"wardsPlaced\",\n",
    "\"wardsKilled\",\n",
    "\"totalDamageTaken\",\n",
    "\"magicalDamageTaken\",\n",
    "\"physicalDamageTaken\",\n",
    "\"trueDamageTaken\",\n",
    "\"totalDamageDealt\",\n",
    "\"magicDamageDealt\",\n",
    "\"physicalDamageDealt\",\n",
    "\"trueDamageDealt\",\n",
    "\"firstBlood\",\n",
    "\"firstTower\",\n",
    "\"firstInhibitor\",\n",
    "\"firstBaron\",\n",
    "\"firstDragon\",\n",
    "\"firstRiftHerald\",\n",
    "\"towerKills\",\n",
    "\"inhibitorKills\",\n",
    "\"baronKills\",\n",
    "\"dragonKills\",\n",
    "\"riftHeraldKills\",\n",
    "\"largestKillingSpree\",\n",
    "\"largestMultiKill\",\n",
    "\"killingSprees\",\n",
    "\"longestTimeSpentLiving\",\n",
    "\"doubleKills\",\n",
    "\"tripleKills\",\n",
    "\"quadraKills\",\n",
    "\"pentaKills\"]"
   ]
  },
  {
   "cell_type": "code",
   "execution_count": 112,
   "metadata": {},
   "outputs": [],
   "source": [
    "X_train, X_test, y_train, y_test = train_test_split(df[ls_best], df[tgt], test_size=0.33, random_state=42)"
   ]
  },
  {
   "cell_type": "code",
   "execution_count": 113,
   "metadata": {},
   "outputs": [],
   "source": [
    "reg_grid = {\n",
    "    'copy_X':[True,False],\n",
    "    'normalize':[True,False]\n",
    "}"
   ]
  },
  {
   "cell_type": "code",
   "execution_count": 114,
   "metadata": {},
   "outputs": [
    {
     "name": "stdout",
     "output_type": "stream",
     "text": [
      "Best score: 0.8789529734513368\n"
     ]
    }
   ],
   "source": [
    "linReg = LinearRegression()\n",
    "clf = GridSearchCV(linReg, reg_grid, cv=4, error_score=-1000, n_jobs=-1, scoring=\"r2\")\n",
    "clf.fit(X_train, y_train)\n",
    "print(\"Best score: \" + str(clf.best_score_))"
   ]
  },
  {
   "cell_type": "code",
   "execution_count": 115,
   "metadata": {},
   "outputs": [],
   "source": [
    "from sklearn.feature_selection import SelectKBest, f_regression"
   ]
  },
  {
   "cell_type": "code",
   "execution_count": 116,
   "metadata": {},
   "outputs": [],
   "source": [
    "kb = SelectKBest(k=10, score_func=f_regression)"
   ]
  },
  {
   "cell_type": "code",
   "execution_count": 117,
   "metadata": {},
   "outputs": [
    {
     "data": {
      "text/plain": [
       "SelectKBest(k=10, score_func=<function f_regression at 0x7f91cc9af050>)"
      ]
     },
     "execution_count": 117,
     "metadata": {},
     "output_type": "execute_result"
    }
   ],
   "source": [
    "kb.fit(X = df[ls_pred], y = df[tgt])"
   ]
  },
  {
   "cell_type": "code",
   "execution_count": 118,
   "metadata": {},
   "outputs": [],
   "source": [
    "ls_best = [x for x, y in zip(ls_pred, kb.get_support()) if y]"
   ]
  },
  {
   "cell_type": "code",
   "execution_count": 119,
   "metadata": {},
   "outputs": [
    {
     "data": {
      "text/plain": [
       "['deaths',\n",
       " 'assists',\n",
       " 'totalDamageDealt',\n",
       " 'wardsPlaced',\n",
       " 'totalDamageTaken',\n",
       " 'magicalDamageTaken',\n",
       " 'physicalDamageTaken',\n",
       " 'trueDamageTaken',\n",
       " 'totalDamageDealt',\n",
       " 'baronKills']"
      ]
     },
     "execution_count": 119,
     "metadata": {},
     "output_type": "execute_result"
    }
   ],
   "source": [
    "ls_best"
   ]
  },
  {
   "cell_type": "code",
   "execution_count": 120,
   "metadata": {},
   "outputs": [],
   "source": [
    "rid_grid = {\n",
    "    'alpha': [.01,.02,.05,.08,.09,.003 ,.004 ,.05, .3, .5, .8 ,.08 ,.09],\n",
    "    'copy_X':[True,False],\n",
    "    'normalize':[True,False],\n",
    "    'solver':['auto', 'svd', 'cholesky', 'lsqr', 'sparse_cg', 'sag', 'saga']\n",
    "}"
   ]
  },
  {
   "cell_type": "code",
   "execution_count": 121,
   "metadata": {},
   "outputs": [
    {
     "name": "stdout",
     "output_type": "stream",
     "text": [
      "Best score: 0.8807001990009352\n"
     ]
    },
    {
     "name": "stderr",
     "output_type": "stream",
     "text": [
      "/home/arturo/virtualenv/ml/lib/python3.7/site-packages/sklearn/model_selection/_search.py:814: DeprecationWarning: The default of the `iid` parameter will change from True to False in version 0.22 and will be removed in 0.24. This will change numeric results when test-set sizes are unequal.\n",
      "  DeprecationWarning)\n"
     ]
    }
   ],
   "source": [
    "ridgereg = Ridge()\n",
    "clf = GridSearchCV(ridgereg, rid_grid, cv=4, error_score=-1000, n_jobs=-1, scoring=\"r2\")\n",
    "clf.fit(X_train, y_train)\n",
    "print(\"Best score: \" + str(clf.best_score_))"
   ]
  },
  {
   "cell_type": "code",
   "execution_count": 122,
   "metadata": {},
   "outputs": [],
   "source": [
    "las_reg = {\n",
    "    'alpha': [.01,.02,.003 ,.004 ,.05, .3, .5, .8 ,.08 ,.09],\n",
    "    'precompute': [True,False],\n",
    "    'selection': [\"random\",\"cyclic\"],\n",
    "    'positive': [True,False],\n",
    "    'warm_start': [True,False]\n",
    "}"
   ]
  },
  {
   "cell_type": "code",
   "execution_count": 123,
   "metadata": {},
   "outputs": [
    {
     "name": "stdout",
     "output_type": "stream",
     "text": [
      "Best score: 0.8823774894236531\n"
     ]
    }
   ],
   "source": [
    "lassreg = Lasso()\n",
    "clf = GridSearchCV(lassreg, las_reg, cv=4, error_score=-1000, n_jobs=-1, scoring=\"r2\")\n",
    "clf.fit(X_train, y_train)\n",
    "print(\"Best score: \" + str(clf.best_score_))"
   ]
  },
  {
   "cell_type": "code",
   "execution_count": 132,
   "metadata": {},
   "outputs": [],
   "source": [
    "elas_net = {\n",
    "    'alpha': [1.0,.01,.02,.003 ,.004 ,.05, .3, .5, .8 ,.08 ,.09],\n",
    "    'fit_intercept': [True,False],\n",
    "    'precompute': [True,False],\n",
    "    'selection': [\"random\",\"cyclic\"],\n",
    "    'positive': [True,False],\n",
    "    'warm_start': [True,False],\n",
    "    'random_state': [True,False]\n",
    "}"
   ]
  },
  {
   "cell_type": "code",
   "execution_count": 133,
   "metadata": {},
   "outputs": [
    {
     "name": "stdout",
     "output_type": "stream",
     "text": [
      "Best score: 0.8822642761103556\n"
     ]
    },
    {
     "name": "stderr",
     "output_type": "stream",
     "text": [
      "/home/arturo/virtualenv/ml/lib/python3.7/site-packages/sklearn/model_selection/_search.py:814: DeprecationWarning: The default of the `iid` parameter will change from True to False in version 0.22 and will be removed in 0.24. This will change numeric results when test-set sizes are unequal.\n",
      "  DeprecationWarning)\n"
     ]
    }
   ],
   "source": [
    "elasnet = ElasticNet()\n",
    "clf = GridSearchCV(elasnet, elas_net, cv=4, error_score=-1000, n_jobs=-1, scoring=\"r2\")\n",
    "clf.fit(X_train, y_train)\n",
    "print(\"Best score: \" + str(clf.best_score_))"
   ]
  },
  {
   "cell_type": "code",
   "execution_count": 134,
   "metadata": {},
   "outputs": [
    {
     "data": {
      "text/plain": [
       "ElasticNet(alpha=0.003, copy_X=True, fit_intercept=True, l1_ratio=0.5,\n",
       "           max_iter=1000, normalize=False, positive=True, precompute=True,\n",
       "           random_state=False, selection='random', tol=0.0001, warm_start=True)"
      ]
     },
     "execution_count": 134,
     "metadata": {},
     "output_type": "execute_result"
    }
   ],
   "source": [
    "clf.best_estimator_"
   ]
  },
  {
   "cell_type": "code",
   "execution_count": 135,
   "metadata": {},
   "outputs": [
    {
     "name": "stderr",
     "output_type": "stream",
     "text": [
      "/home/arturo/virtualenv/ml/lib/python3.7/site-packages/sklearn/linear_model/coordinate_descent.py:475: ConvergenceWarning: Objective did not converge. You might want to increase the number of iterations. Duality gap: 916954.5076699662, tolerance: 2387.7203473053896\n",
      "  positive)\n"
     ]
    },
    {
     "data": {
      "text/plain": [
       "ElasticNet(alpha=1.0, copy_X=True, fit_intercept=True, l1_ratio=0.5,\n",
       "           max_iter=1000, normalize=False, positive=False, precompute=False,\n",
       "           random_state=None, selection='cyclic', tol=0.0001, warm_start=False)"
      ]
     },
     "execution_count": 135,
     "metadata": {},
     "output_type": "execute_result"
    }
   ],
   "source": [
    "elasnet = ElasticNet()\n",
    "elasnet.fit(X_train, y_train)"
   ]
  },
  {
   "cell_type": "code",
   "execution_count": 136,
   "metadata": {},
   "outputs": [
    {
     "data": {
      "text/plain": [
       "0.8959855040729043"
      ]
     },
     "execution_count": 136,
     "metadata": {},
     "output_type": "execute_result"
    }
   ],
   "source": [
    "elasnet.score(X_train, y_train)"
   ]
  },
  {
   "cell_type": "code",
   "execution_count": null,
   "metadata": {},
   "outputs": [],
   "source": []
  }
 ],
 "metadata": {
  "kernelspec": {
   "display_name": "ml",
   "language": "python",
   "name": "ml"
  },
  "language_info": {
   "codemirror_mode": {
    "name": "ipython",
    "version": 3
   },
   "file_extension": ".py",
   "mimetype": "text/x-python",
   "name": "python",
   "nbconvert_exporter": "python",
   "pygments_lexer": "ipython3",
   "version": "3.7.4"
  }
 },
 "nbformat": 4,
 "nbformat_minor": 2
}
