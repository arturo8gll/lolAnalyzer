{
 "cells": [
  {
   "cell_type": "code",
   "execution_count": 137,
   "metadata": {},
   "outputs": [],
   "source": [
    "import pandas as pd\n",
    "\n",
    "from sklearn.model_selection import cross_val_score\n",
    "from sklearn.linear_model import LinearRegression, Lars, ElasticNet, Lasso, Ridge, BayesianRidge\n",
    "from sklearn.model_selection import train_test_split\n",
    "from sklearn.model_selection import GridSearchCV, RandomizedSearchCV\n",
    "\n",
    "import math\n",
    "import numpy as np\n",
    "import pygal\n",
    "import os\n",
    "from IPython.display import display, HTML\n",
    "%matplotlib inline\n",
    "\n",
    "base_html = \"\"\"\n",
    "<!DOCTYPE html>\n",
    "<html>\n",
    "  <head>\n",
    "  <script type=\"text/javascript\" src=\"http://kozea.github.com/pygal.js/javascripts/svg.jquery.js\"></script>\n",
    "  <script type=\"text/javascript\" src=\"https://kozea.github.io/pygal.js/2.0.x/pygal-tooltips.min.js\"\"></script>\n",
    "  </head>\n",
    "  <body>\n",
    "    <figure>\n",
    "      {rendered_chart}\n",
    "    </figure>\n",
    "  </body>\n",
    "</html>\n",
    "\"\"\""
   ]
  },
  {
   "cell_type": "code",
   "execution_count": null,
   "metadata": {},
   "outputs": [],
   "source": [
    "En este modulo trato de predecir cuanto tiempo durara la partida en base de elementos seleccionados por kbest"
   ]
  },
  {
   "cell_type": "code",
   "execution_count": 138,
   "metadata": {},
   "outputs": [],
   "source": [
    "\n",
    "df=pd.read_csv('./csv/data.csv')"
   ]
  },
  {
   "cell_type": "code",
   "execution_count": 139,
   "metadata": {},
   "outputs": [
    {
     "data": {
      "text/plain": [
       "0      1411\n",
       "1      1506\n",
       "2      2267\n",
       "3      1707\n",
       "4       759\n",
       "       ... \n",
       "597    1724\n",
       "598     924\n",
       "599    2005\n",
       "600    1774\n",
       "601    2071\n",
       "Name: gameDuration, Length: 602, dtype: int64"
      ]
     },
     "execution_count": 139,
     "metadata": {},
     "output_type": "execute_result"
    }
   ],
   "source": [
    "df[\"gameDuration\"]"
   ]
  },
  {
   "cell_type": "code",
   "execution_count": 140,
   "metadata": {},
   "outputs": [],
   "source": [
    "def plot_hist(df,value,route=''):\n",
    "    info=df[value].describe()\n",
    "    r=info[\"max\"]-info[\"min\"]\n",
    "    k=math.ceil(1+3.322*math.log10(info[\"count\"]))\n",
    "    a=int(round(r/k))\n",
    "    ranges=[]\n",
    "    for i in range(int(info[\"min\"]),int(info[\"max\"]+2),a):\n",
    "        ranges.append(i)\n",
    "    aux=np.histogram(df[value], bins=ranges)\n",
    "    histograma=[]\n",
    "    for i in range(len(aux[0])):\n",
    "        histograma.append([aux[0][i],aux[1][i],aux[1][i+1]])\n",
    "    hist = pygal.Histogram()\n",
    "    hist.add(value,histograma)\n",
    "    if route!='':\n",
    "        return hist.render_to_png(route)\n",
    "    display(HTML(base_html.format(rendered_chart=hist.render(is_unicode=True))))"
   ]
  },
  {
   "cell_type": "code",
   "execution_count": 141,
   "metadata": {},
   "outputs": [
    {
     "data": {
      "text/html": [
       "\n",
       "<!DOCTYPE html>\n",
       "<html>\n",
       "  <head>\n",
       "  <script type=\"text/javascript\" src=\"http://kozea.github.com/pygal.js/javascripts/svg.jquery.js\"></script>\n",
       "  <script type=\"text/javascript\" src=\"https://kozea.github.io/pygal.js/2.0.x/pygal-tooltips.min.js\"\"></script>\n",
       "  </head>\n",
       "  <body>\n",
       "    <figure>\n",
       "      <?xml version='1.0' encoding='utf-8'?>\n",
       "<svg xmlns:xlink=\"http://www.w3.org/1999/xlink\" class=\"pygal-chart\" id=\"chart-e4764689-3d38-4fc2-9e9d-b542c8086381\" viewBox=\"0 0 800 600\" xmlns=\"http://www.w3.org/2000/svg\"><!--Generated with pygal 2.4.0 (etree) ©Kozea 2012-2016 on 2019-11-04--><!--http://pygal.org--><!--http://github.com/Kozea/pygal--><defs><style type=\"text/css\">#chart-e4764689-3d38-4fc2-9e9d-b542c8086381{-webkit-user-select:none;-webkit-font-smoothing:antialiased;font-family:Consolas,\"Liberation Mono\",Menlo,Courier,monospace}#chart-e4764689-3d38-4fc2-9e9d-b542c8086381 .title{font-family:Consolas,\"Liberation Mono\",Menlo,Courier,monospace;font-size:16px}#chart-e4764689-3d38-4fc2-9e9d-b542c8086381 .legends .legend text{font-family:Consolas,\"Liberation Mono\",Menlo,Courier,monospace;font-size:14px}#chart-e4764689-3d38-4fc2-9e9d-b542c8086381 .axis text{font-family:Consolas,\"Liberation Mono\",Menlo,Courier,monospace;font-size:10px}#chart-e4764689-3d38-4fc2-9e9d-b542c8086381 .axis text.major{font-family:Consolas,\"Liberation Mono\",Menlo,Courier,monospace;font-size:10px}#chart-e4764689-3d38-4fc2-9e9d-b542c8086381 .text-overlay text.value{font-family:Consolas,\"Liberation Mono\",Menlo,Courier,monospace;font-size:16px}#chart-e4764689-3d38-4fc2-9e9d-b542c8086381 .text-overlay text.label{font-family:Consolas,\"Liberation Mono\",Menlo,Courier,monospace;font-size:10px}#chart-e4764689-3d38-4fc2-9e9d-b542c8086381 .tooltip{font-family:Consolas,\"Liberation Mono\",Menlo,Courier,monospace;font-size:14px}#chart-e4764689-3d38-4fc2-9e9d-b542c8086381 text.no_data{font-family:Consolas,\"Liberation Mono\",Menlo,Courier,monospace;font-size:64px}\n",
       "#chart-e4764689-3d38-4fc2-9e9d-b542c8086381{background-color:rgba(249,249,249,1)}#chart-e4764689-3d38-4fc2-9e9d-b542c8086381 path,#chart-e4764689-3d38-4fc2-9e9d-b542c8086381 line,#chart-e4764689-3d38-4fc2-9e9d-b542c8086381 rect,#chart-e4764689-3d38-4fc2-9e9d-b542c8086381 circle{-webkit-transition:150ms;-moz-transition:150ms;transition:150ms}#chart-e4764689-3d38-4fc2-9e9d-b542c8086381 .graph &gt; .background{fill:rgba(249,249,249,1)}#chart-e4764689-3d38-4fc2-9e9d-b542c8086381 .plot &gt; .background{fill:rgba(255,255,255,1)}#chart-e4764689-3d38-4fc2-9e9d-b542c8086381 .graph{fill:rgba(0,0,0,.87)}#chart-e4764689-3d38-4fc2-9e9d-b542c8086381 text.no_data{fill:rgba(0,0,0,1)}#chart-e4764689-3d38-4fc2-9e9d-b542c8086381 .title{fill:rgba(0,0,0,1)}#chart-e4764689-3d38-4fc2-9e9d-b542c8086381 .legends .legend text{fill:rgba(0,0,0,.87)}#chart-e4764689-3d38-4fc2-9e9d-b542c8086381 .legends .legend:hover text{fill:rgba(0,0,0,1)}#chart-e4764689-3d38-4fc2-9e9d-b542c8086381 .axis .line{stroke:rgba(0,0,0,1)}#chart-e4764689-3d38-4fc2-9e9d-b542c8086381 .axis .guide.line{stroke:rgba(0,0,0,.54)}#chart-e4764689-3d38-4fc2-9e9d-b542c8086381 .axis .major.line{stroke:rgba(0,0,0,.87)}#chart-e4764689-3d38-4fc2-9e9d-b542c8086381 .axis text.major{fill:rgba(0,0,0,1)}#chart-e4764689-3d38-4fc2-9e9d-b542c8086381 .axis.y .guides:hover .guide.line,#chart-e4764689-3d38-4fc2-9e9d-b542c8086381 .line-graph .axis.x .guides:hover .guide.line,#chart-e4764689-3d38-4fc2-9e9d-b542c8086381 .stackedline-graph .axis.x .guides:hover .guide.line,#chart-e4764689-3d38-4fc2-9e9d-b542c8086381 .xy-graph .axis.x .guides:hover .guide.line{stroke:rgba(0,0,0,1)}#chart-e4764689-3d38-4fc2-9e9d-b542c8086381 .axis .guides:hover text{fill:rgba(0,0,0,1)}#chart-e4764689-3d38-4fc2-9e9d-b542c8086381 .reactive{fill-opacity:.7;stroke-opacity:.8}#chart-e4764689-3d38-4fc2-9e9d-b542c8086381 .ci{stroke:rgba(0,0,0,.87)}#chart-e4764689-3d38-4fc2-9e9d-b542c8086381 .reactive.active,#chart-e4764689-3d38-4fc2-9e9d-b542c8086381 .active .reactive{fill-opacity:.8;stroke-opacity:.9;stroke-width:4}#chart-e4764689-3d38-4fc2-9e9d-b542c8086381 .ci .reactive.active{stroke-width:1.5}#chart-e4764689-3d38-4fc2-9e9d-b542c8086381 .series text{fill:rgba(0,0,0,1)}#chart-e4764689-3d38-4fc2-9e9d-b542c8086381 .tooltip rect{fill:rgba(255,255,255,1);stroke:rgba(0,0,0,1);-webkit-transition:opacity 150ms;-moz-transition:opacity 150ms;transition:opacity 150ms}#chart-e4764689-3d38-4fc2-9e9d-b542c8086381 .tooltip .label{fill:rgba(0,0,0,.87)}#chart-e4764689-3d38-4fc2-9e9d-b542c8086381 .tooltip .label{fill:rgba(0,0,0,.87)}#chart-e4764689-3d38-4fc2-9e9d-b542c8086381 .tooltip .legend{font-size:.8em;fill:rgba(0,0,0,.54)}#chart-e4764689-3d38-4fc2-9e9d-b542c8086381 .tooltip .x_label{font-size:.6em;fill:rgba(0,0,0,1)}#chart-e4764689-3d38-4fc2-9e9d-b542c8086381 .tooltip .xlink{font-size:.5em;text-decoration:underline}#chart-e4764689-3d38-4fc2-9e9d-b542c8086381 .tooltip .value{font-size:1.5em}#chart-e4764689-3d38-4fc2-9e9d-b542c8086381 .bound{font-size:.5em}#chart-e4764689-3d38-4fc2-9e9d-b542c8086381 .max-value{font-size:.75em;fill:rgba(0,0,0,.54)}#chart-e4764689-3d38-4fc2-9e9d-b542c8086381 .map-element{fill:rgba(255,255,255,1);stroke:rgba(0,0,0,.54) !important}#chart-e4764689-3d38-4fc2-9e9d-b542c8086381 .map-element .reactive{fill-opacity:inherit;stroke-opacity:inherit}#chart-e4764689-3d38-4fc2-9e9d-b542c8086381 .color-0,#chart-e4764689-3d38-4fc2-9e9d-b542c8086381 .color-0 a:visited{stroke:#F44336;fill:#F44336}#chart-e4764689-3d38-4fc2-9e9d-b542c8086381 .text-overlay .color-0 text{fill:black}\n",
       "#chart-e4764689-3d38-4fc2-9e9d-b542c8086381 text.no_data{text-anchor:middle}#chart-e4764689-3d38-4fc2-9e9d-b542c8086381 .guide.line{fill:none}#chart-e4764689-3d38-4fc2-9e9d-b542c8086381 .centered{text-anchor:middle}#chart-e4764689-3d38-4fc2-9e9d-b542c8086381 .title{text-anchor:middle}#chart-e4764689-3d38-4fc2-9e9d-b542c8086381 .legends .legend text{fill-opacity:1}#chart-e4764689-3d38-4fc2-9e9d-b542c8086381 .axis.x text{text-anchor:middle}#chart-e4764689-3d38-4fc2-9e9d-b542c8086381 .axis.x:not(.web) text[transform]{text-anchor:start}#chart-e4764689-3d38-4fc2-9e9d-b542c8086381 .axis.x:not(.web) text[transform].backwards{text-anchor:end}#chart-e4764689-3d38-4fc2-9e9d-b542c8086381 .axis.y text{text-anchor:end}#chart-e4764689-3d38-4fc2-9e9d-b542c8086381 .axis.y text[transform].backwards{text-anchor:start}#chart-e4764689-3d38-4fc2-9e9d-b542c8086381 .axis.y2 text{text-anchor:start}#chart-e4764689-3d38-4fc2-9e9d-b542c8086381 .axis.y2 text[transform].backwards{text-anchor:end}#chart-e4764689-3d38-4fc2-9e9d-b542c8086381 .axis .guide.line{stroke-dasharray:4,4}#chart-e4764689-3d38-4fc2-9e9d-b542c8086381 .axis .major.guide.line{stroke-dasharray:6,6}#chart-e4764689-3d38-4fc2-9e9d-b542c8086381 .horizontal .axis.y .guide.line,#chart-e4764689-3d38-4fc2-9e9d-b542c8086381 .horizontal .axis.y2 .guide.line,#chart-e4764689-3d38-4fc2-9e9d-b542c8086381 .vertical .axis.x .guide.line{opacity:0}#chart-e4764689-3d38-4fc2-9e9d-b542c8086381 .horizontal .axis.always_show .guide.line,#chart-e4764689-3d38-4fc2-9e9d-b542c8086381 .vertical .axis.always_show .guide.line{opacity:1 !important}#chart-e4764689-3d38-4fc2-9e9d-b542c8086381 .axis.y .guides:hover .guide.line,#chart-e4764689-3d38-4fc2-9e9d-b542c8086381 .axis.y2 .guides:hover .guide.line,#chart-e4764689-3d38-4fc2-9e9d-b542c8086381 .axis.x .guides:hover .guide.line{opacity:1}#chart-e4764689-3d38-4fc2-9e9d-b542c8086381 .axis .guides:hover text{opacity:1}#chart-e4764689-3d38-4fc2-9e9d-b542c8086381 .nofill{fill:none}#chart-e4764689-3d38-4fc2-9e9d-b542c8086381 .subtle-fill{fill-opacity:.2}#chart-e4764689-3d38-4fc2-9e9d-b542c8086381 .dot{stroke-width:1px;fill-opacity:1}#chart-e4764689-3d38-4fc2-9e9d-b542c8086381 .dot.active{stroke-width:5px}#chart-e4764689-3d38-4fc2-9e9d-b542c8086381 .dot.negative{fill:transparent}#chart-e4764689-3d38-4fc2-9e9d-b542c8086381 text,#chart-e4764689-3d38-4fc2-9e9d-b542c8086381 tspan{stroke:none !important}#chart-e4764689-3d38-4fc2-9e9d-b542c8086381 .series text.active{opacity:1}#chart-e4764689-3d38-4fc2-9e9d-b542c8086381 .tooltip rect{fill-opacity:.95;stroke-width:.5}#chart-e4764689-3d38-4fc2-9e9d-b542c8086381 .tooltip text{fill-opacity:1}#chart-e4764689-3d38-4fc2-9e9d-b542c8086381 .showable{visibility:hidden}#chart-e4764689-3d38-4fc2-9e9d-b542c8086381 .showable.shown{visibility:visible}#chart-e4764689-3d38-4fc2-9e9d-b542c8086381 .gauge-background{fill:rgba(229,229,229,1);stroke:none}#chart-e4764689-3d38-4fc2-9e9d-b542c8086381 .bg-lines{stroke:rgba(249,249,249,1);stroke-width:2px}</style><script type=\"text/javascript\">window.pygal = window.pygal || {};window.pygal.config = window.pygal.config || {};window.pygal.config['e4764689-3d38-4fc2-9e9d-b542c8086381'] = {\"allow_interruptions\": false, \"box_mode\": \"extremes\", \"classes\": [\"pygal-chart\"], \"css\": [\"file://style.css\", \"file://graph.css\"], \"defs\": [], \"disable_xml_declaration\": false, \"dots_size\": 2.5, \"dynamic_print_values\": false, \"explicit_size\": false, \"fill\": false, \"force_uri_protocol\": \"https\", \"formatter\": null, \"half_pie\": false, \"height\": 600, \"include_x_axis\": false, \"inner_radius\": 0, \"interpolate\": null, \"interpolation_parameters\": {}, \"interpolation_precision\": 250, \"inverse_y_axis\": false, \"js\": [\"//kozea.github.io/pygal.js/2.0.x/pygal-tooltips.min.js\"], \"legend_at_bottom\": false, \"legend_at_bottom_columns\": null, \"legend_box_size\": 12, \"logarithmic\": false, \"margin\": 20, \"margin_bottom\": null, \"margin_left\": null, \"margin_right\": null, \"margin_top\": null, \"max_scale\": 16, \"min_scale\": 4, \"missing_value_fill_truncation\": \"x\", \"no_data_text\": \"No data\", \"no_prefix\": false, \"order_min\": null, \"pretty_print\": false, \"print_labels\": false, \"print_values\": false, \"print_values_position\": \"center\", \"print_zeroes\": true, \"range\": null, \"rounded_bars\": null, \"secondary_range\": null, \"show_dots\": true, \"show_legend\": true, \"show_minor_x_labels\": true, \"show_minor_y_labels\": true, \"show_only_major_dots\": false, \"show_x_guides\": false, \"show_x_labels\": true, \"show_y_guides\": true, \"show_y_labels\": true, \"spacing\": 10, \"stack_from_top\": false, \"strict\": false, \"stroke\": true, \"stroke_style\": null, \"style\": {\"background\": \"rgba(249, 249, 249, 1)\", \"ci_colors\": [], \"colors\": [\"#F44336\", \"#3F51B5\", \"#009688\", \"#FFC107\", \"#FF5722\", \"#9C27B0\", \"#03A9F4\", \"#8BC34A\", \"#FF9800\", \"#E91E63\", \"#2196F3\", \"#4CAF50\", \"#FFEB3B\", \"#673AB7\", \"#00BCD4\", \"#CDDC39\", \"#9E9E9E\", \"#607D8B\"], \"font_family\": \"Consolas, \\\"Liberation Mono\\\", Menlo, Courier, monospace\", \"foreground\": \"rgba(0, 0, 0, .87)\", \"foreground_strong\": \"rgba(0, 0, 0, 1)\", \"foreground_subtle\": \"rgba(0, 0, 0, .54)\", \"guide_stroke_dasharray\": \"4,4\", \"label_font_family\": \"Consolas, \\\"Liberation Mono\\\", Menlo, Courier, monospace\", \"label_font_size\": 10, \"legend_font_family\": \"Consolas, \\\"Liberation Mono\\\", Menlo, Courier, monospace\", \"legend_font_size\": 14, \"major_guide_stroke_dasharray\": \"6,6\", \"major_label_font_family\": \"Consolas, \\\"Liberation Mono\\\", Menlo, Courier, monospace\", \"major_label_font_size\": 10, \"no_data_font_family\": \"Consolas, \\\"Liberation Mono\\\", Menlo, Courier, monospace\", \"no_data_font_size\": 64, \"opacity\": \".7\", \"opacity_hover\": \".8\", \"plot_background\": \"rgba(255, 255, 255, 1)\", \"stroke_opacity\": \".8\", \"stroke_opacity_hover\": \".9\", \"title_font_family\": \"Consolas, \\\"Liberation Mono\\\", Menlo, Courier, monospace\", \"title_font_size\": 16, \"tooltip_font_family\": \"Consolas, \\\"Liberation Mono\\\", Menlo, Courier, monospace\", \"tooltip_font_size\": 14, \"transition\": \"150ms\", \"value_background\": \"rgba(229, 229, 229, 1)\", \"value_colors\": [], \"value_font_family\": \"Consolas, \\\"Liberation Mono\\\", Menlo, Courier, monospace\", \"value_font_size\": 16, \"value_label_font_family\": \"Consolas, \\\"Liberation Mono\\\", Menlo, Courier, monospace\", \"value_label_font_size\": 10}, \"title\": null, \"tooltip_border_radius\": 0, \"tooltip_fancy_mode\": true, \"truncate_label\": null, \"truncate_legend\": null, \"width\": 800, \"x_label_rotation\": 0, \"x_labels\": null, \"x_labels_major\": null, \"x_labels_major_count\": null, \"x_labels_major_every\": null, \"x_title\": null, \"xrange\": null, \"y_label_rotation\": 0, \"y_labels\": null, \"y_labels_major\": null, \"y_labels_major_count\": null, \"y_labels_major_every\": null, \"y_title\": null, \"zero\": 0, \"legends\": [\"gameDuration\"]}</script><script type=\"text/javascript\" xlink:href=\"https://kozea.github.io/pygal.js/2.0.x/pygal-tooltips.min.js\" /></defs><title>Pygal</title><g class=\"graph histogram-graph vertical\"><rect class=\"background\" height=\"600\" width=\"800\" x=\"0\" y=\"0\" /><g class=\"plot\" transform=\"translate(170, 20)\"><rect class=\"background\" height=\"540\" width=\"609.2\" x=\"0\" y=\"0\" /><g class=\"axis y always_show\"><g class=\"guides\"><path class=\"axis major line\" d=\"M0.000000 529.615385 h609.200000\" /><text class=\"major\" x=\"-5\" y=\"533.1153846153846\">0</text><title>0</title></g><g class=\"guides\"><path class=\"guide line\" d=\"M0.000000 493.557692 h609.200000\" /><text class=\"\" x=\"-5\" y=\"497.0576923076923\">10</text><title>10</title></g><g class=\"guides\"><path class=\"guide line\" d=\"M0.000000 457.500000 h609.200000\" /><text class=\"\" x=\"-5\" y=\"461.0\">20</text><title>20</title></g><g class=\"guides\"><path class=\"guide line\" d=\"M0.000000 421.442308 h609.200000\" /><text class=\"\" x=\"-5\" y=\"424.9423076923077\">30</text><title>30</title></g><g class=\"guides\"><path class=\"guide line\" d=\"M0.000000 385.384615 h609.200000\" /><text class=\"\" x=\"-5\" y=\"388.88461538461536\">40</text><title>40</title></g><g class=\"guides\"><path class=\"major guide line\" d=\"M0.000000 349.326923 h609.200000\" /><text class=\"major\" x=\"-5\" y=\"352.8269230769231\">50</text><title>50</title></g><g class=\"guides\"><path class=\"guide line\" d=\"M0.000000 313.269231 h609.200000\" /><text class=\"\" x=\"-5\" y=\"316.7692307692307\">60</text><title>60</title></g><g class=\"guides\"><path class=\"guide line\" d=\"M0.000000 277.211538 h609.200000\" /><text class=\"\" x=\"-5\" y=\"280.71153846153845\">70</text><title>70</title></g><g class=\"guides\"><path class=\"guide line\" d=\"M0.000000 241.153846 h609.200000\" /><text class=\"\" x=\"-5\" y=\"244.65384615384613\">80</text><title>80</title></g><g class=\"guides\"><path class=\"guide line\" d=\"M0.000000 205.096154 h609.200000\" /><text class=\"\" x=\"-5\" y=\"208.59615384615387\">90</text><title>90</title></g><g class=\"guides\"><path class=\"major guide line\" d=\"M0.000000 169.038462 h609.200000\" /><text class=\"major\" x=\"-5\" y=\"172.53846153846155\">100</text><title>100</title></g><g class=\"guides\"><path class=\"guide line\" d=\"M0.000000 132.980769 h609.200000\" /><text class=\"\" x=\"-5\" y=\"136.48076923076923\">110</text><title>110</title></g><g class=\"guides\"><path class=\"guide line\" d=\"M0.000000 96.923077 h609.200000\" /><text class=\"\" x=\"-5\" y=\"100.4230769230769\">120</text><title>120</title></g><g class=\"guides\"><path class=\"guide line\" d=\"M0.000000 60.865385 h609.200000\" /><text class=\"\" x=\"-5\" y=\"64.36538461538458\">130</text><title>130</title></g><g class=\"guides\"><path class=\"guide line\" d=\"M0.000000 24.807692 h609.200000\" /><text class=\"\" x=\"-5\" y=\"28.307692307692264\">140</text><title>140</title></g></g><g class=\"axis x\"><path class=\"line\" d=\"M0.000000 0.000000 v540.000000\" /><g class=\"guides\"><path class=\"guide line\" d=\"M23.599895 0.000000 v540.000000\" /><text class=\"\" x=\"23.59989495483057\" y=\"555.0\">800</text><title>800</title></g><g class=\"guides\"><path class=\"guide line\" d=\"M69.309550 0.000000 v540.000000\" /><text class=\"\" x=\"69.3095501065458\" y=\"555.0\">1000</text><title>1000</title></g><g class=\"guides\"><path class=\"guide line\" d=\"M115.019205 0.000000 v540.000000\" /><text class=\"\" x=\"115.01920525826104\" y=\"555.0\">1200</text><title>1200</title></g><g class=\"guides\"><path class=\"guide line\" d=\"M160.728860 0.000000 v540.000000\" /><text class=\"\" x=\"160.72886040997628\" y=\"555.0\">1400</text><title>1400</title></g><g class=\"guides\"><path class=\"guide line\" d=\"M206.438516 0.000000 v540.000000\" /><text class=\"\" x=\"206.43851556169153\" y=\"555.0\">1600</text><title>1600</title></g><g class=\"guides\"><path class=\"guide line\" d=\"M252.148171 0.000000 v540.000000\" /><text class=\"\" x=\"252.14817071340676\" y=\"555.0\">1800</text><title>1800</title></g><g class=\"guides\"><path class=\"guide line\" d=\"M297.857826 0.000000 v540.000000\" /><text class=\"\" x=\"297.857825865122\" y=\"555.0\">2000</text><title>2000</title></g><g class=\"guides\"><path class=\"guide line\" d=\"M343.567481 0.000000 v540.000000\" /><text class=\"\" x=\"343.56748101683723\" y=\"555.0\">2200</text><title>2200</title></g><g class=\"guides\"><path class=\"guide line\" d=\"M389.277136 0.000000 v540.000000\" /><text class=\"\" x=\"389.27713616855243\" y=\"555.0\">2400</text><title>2400</title></g><g class=\"guides\"><path class=\"guide line\" d=\"M434.986791 0.000000 v540.000000\" /><text class=\"\" x=\"434.9867913202677\" y=\"555.0\">2600</text><title>2600</title></g><g class=\"guides\"><path class=\"guide line\" d=\"M480.696446 0.000000 v540.000000\" /><text class=\"\" x=\"480.696446471983\" y=\"555.0\">2800</text><title>2800</title></g><g class=\"guides\"><path class=\"guide line\" d=\"M526.406102 0.000000 v540.000000\" /><text class=\"\" x=\"526.4061016236982\" y=\"555.0\">3000</text><title>3000</title></g><g class=\"guides\"><path class=\"guide line\" d=\"M572.115757 0.000000 v540.000000\" /><text class=\"\" x=\"572.1157567754135\" y=\"555.0\">3200</text><title>3200</title></g></g><g class=\"series serie-0 color-0\"><g class=\"histbars\"><g class=\"histbar\"><rect class=\"rect reactive tooltip-trigger\" height=\"93.75\" rx=\"0\" ry=\"0\" width=\"53.251748251748246\" x=\"11.715384615384613\" y=\"435.86538461538464\" /><desc class=\"value\">26: 748</desc><desc class=\"x centered\">38.341258741258734</desc><desc class=\"y centered\">482.74038461538464</desc></g><g class=\"histbar\"><rect class=\"rect reactive tooltip-trigger\" height=\"133.41346153846155\" rx=\"0\" ry=\"0\" width=\"53.25174825174824\" x=\"64.96713286713286\" y=\"396.2019230769231\" /><desc class=\"value\">37: 981</desc><desc class=\"x centered\">91.59300699300698</desc><desc class=\"y centered\">462.90865384615387</desc></g><g class=\"histbar\"><rect class=\"rect reactive tooltip-trigger\" height=\"281.25\" rx=\"0\" ry=\"0\" width=\"53.25174825174825\" x=\"118.2188811188811\" y=\"248.36538461538464\" /><desc class=\"value\">78: 1214</desc><desc class=\"x centered\">144.84475524475522</desc><desc class=\"y centered\">388.99038461538464</desc></g><g class=\"histbar\"><rect class=\"rect reactive tooltip-trigger\" height=\"454.3269230769231\" rx=\"0\" ry=\"0\" width=\"53.25174825174827\" x=\"171.47062937062935\" y=\"75.28846153846155\" /><desc class=\"value\">126: 1447</desc><desc class=\"x centered\">198.0965034965035</desc><desc class=\"y centered\">302.4519230769231</desc></g><g class=\"histbar\"><rect class=\"rect reactive tooltip-trigger\" height=\"519.2307692307693\" rx=\"0\" ry=\"0\" width=\"53.25174825174821\" x=\"224.72237762237762\" y=\"10.384615384615358\" /><desc class=\"value\">144: 1680</desc><desc class=\"x centered\">251.34825174825173</desc><desc class=\"y centered\">270.0</desc></g><g class=\"histbar\"><rect class=\"rect reactive tooltip-trigger\" height=\"320.91346153846155\" rx=\"0\" ry=\"0\" width=\"53.25174825174827\" x=\"277.97412587412583\" y=\"208.7019230769231\" /><desc class=\"value\">89: 1913</desc><desc class=\"x centered\">304.59999999999997</desc><desc class=\"y centered\">369.15865384615387</desc></g><g class=\"histbar\"><rect class=\"rect reactive tooltip-trigger\" height=\"201.92307692307696\" rx=\"0\" ry=\"0\" width=\"53.25174825174821\" x=\"331.2258741258741\" y=\"327.6923076923077\" /><desc class=\"value\">56: 2146</desc><desc class=\"x centered\">357.8517482517482</desc><desc class=\"y centered\">428.6538461538462</desc></g><g class=\"histbar\"><rect class=\"rect reactive tooltip-trigger\" height=\"64.90384615384619\" rx=\"0\" ry=\"0\" width=\"53.25174825174827\" x=\"384.4776223776223\" y=\"464.71153846153845\" /><desc class=\"value\">18: 2379</desc><desc class=\"x centered\">411.10349650349644</desc><desc class=\"y centered\">497.16346153846155</desc></g><g class=\"histbar\"><rect class=\"rect reactive tooltip-trigger\" height=\"14.423076923076906\" rx=\"0\" ry=\"0\" width=\"53.251748251748324\" x=\"437.7293706293706\" y=\"515.1923076923077\" /><desc class=\"value\">4: 2612</desc><desc class=\"x centered\">464.3552447552447</desc><desc class=\"y centered\">522.4038461538462</desc></g><g class=\"histbar\"><rect class=\"rect reactive tooltip-trigger\" height=\"3.6057692307692832\" rx=\"0\" ry=\"0\" width=\"53.25174825174821\" x=\"490.9811188811189\" y=\"526.0096153846154\" /><desc class=\"value\">1: 2845</desc><desc class=\"x centered\">517.606993006993</desc><desc class=\"y centered\">527.8125</desc></g><g class=\"histbar\"><rect class=\"rect reactive tooltip-trigger\" height=\"3.6057692307692832\" rx=\"0\" ry=\"0\" width=\"53.25174825174827\" x=\"544.2328671328671\" y=\"526.0096153846154\" /><desc class=\"value\">1: 3078</desc><desc class=\"x centered\">570.8587412587412</desc><desc class=\"y centered\">527.8125</desc></g></g></g></g><g class=\"titles\" /><g class=\"plot overlay\" transform=\"translate(170, 20)\"><g class=\"series serie-0 color-0\" /></g><g class=\"plot text-overlay\" transform=\"translate(170, 20)\"><g class=\"series serie-0 color-0\" /></g><g class=\"plot tooltip-overlay\" transform=\"translate(170, 20)\"><g class=\"tooltip\" style=\"opacity: 0\" transform=\"translate(0 0)\"><rect class=\"tooltip-box\" height=\"0\" rx=\"0\" ry=\"0\" width=\"0\" /><g class=\"text\" /></g></g><g class=\"legends\" transform=\"translate(10, 30)\"><g class=\"legend reactive activate-serie\" id=\"activate-serie-0\"><rect class=\"color-0 reactive\" height=\"12\" width=\"12\" x=\"0.0\" y=\"1.0\" /><text x=\"17.0\" y=\"11.2\">gameDuration</text></g></g><g class=\"legends\" transform=\"translate(790, 30)\" /></g></svg>\n",
       "    </figure>\n",
       "  </body>\n",
       "</html>\n"
      ],
      "text/plain": [
       "<IPython.core.display.HTML object>"
      ]
     },
     "metadata": {},
     "output_type": "display_data"
    }
   ],
   "source": [
    "plot_hist(df[df[\"gameDuration\"]>600],\"gameDuration\")"
   ]
  },
  {
   "cell_type": "code",
   "execution_count": 142,
   "metadata": {},
   "outputs": [],
   "source": [
    "df=df[df[\"gameDuration\"]>600]"
   ]
  },
  {
   "cell_type": "code",
   "execution_count": 143,
   "metadata": {},
   "outputs": [
    {
     "name": "stdout",
     "output_type": "stream",
     "text": [
      "gameId 0\n",
      "platformId 0\n",
      "gameCreation 0\n",
      "gameDuration 0\n",
      "queueId 0\n",
      "mapId 0\n",
      "seasonId 0\n",
      "gameVersion 0\n",
      "gameMode 0\n",
      "gameType 0\n",
      "teamId 0\n",
      "win 0\n",
      "firstBlood 0\n",
      "firstTower 0\n",
      "firstInhibitor 0\n",
      "firstBaron 0\n",
      "firstDragon 0\n",
      "firstRiftHerald 0\n",
      "towerKills 0\n",
      "inhibitorKills 0\n",
      "baronKills 0\n",
      "dragonKills 0\n",
      "vilemawKills 0\n",
      "riftHeraldKills 0\n",
      "dominionVictoryScore 0\n",
      "participantId 0\n",
      "championId 0\n",
      "spell1Id 0\n",
      "spell2Id 0\n",
      "item0 0\n",
      "item1 0\n",
      "item2 0\n",
      "item3 0\n",
      "item4 0\n",
      "item5 0\n",
      "item6 0\n",
      "kills 0\n",
      "deaths 0\n",
      "assists 0\n",
      "largestKillingSpree 0\n",
      "largestMultiKill 0\n",
      "killingSprees 0\n",
      "longestTimeSpentLiving 0\n",
      "doubleKills 0\n",
      "tripleKills 0\n",
      "quadraKills 0\n",
      "pentaKills 0\n",
      "unrealKills 0\n",
      "totalDamageDealt 0\n",
      "magicDamageDealt 0\n",
      "physicalDamageDealt 0\n",
      "trueDamageDealt 0\n",
      "largestCriticalStrike 0\n",
      "totalDamageDealtToChampions 0\n",
      "magicDamageDealtToChampions 0\n",
      "physicalDamageDealtToChampions 0\n",
      "trueDamageDealtToChampions 0\n",
      "totalHeal 0\n",
      "totalUnitsHealed 0\n",
      "damageSelfMitigated 0\n",
      "damageDealtToObjectives 0\n",
      "damageDealtToTurrets 0\n",
      "visionScore 0\n",
      "timeCCingOthers 0\n",
      "totalDamageTaken 0\n",
      "magicalDamageTaken 0\n",
      "physicalDamageTaken 0\n",
      "trueDamageTaken 0\n",
      "goldEarned 0\n",
      "goldSpent 0\n",
      "turretKills 0\n",
      "totalMinionsKilled 0\n",
      "neutralMinionsKilled 0\n",
      "neutralMinionsKilledTeamJungle 0\n",
      "neutralMinionsKilledEnemyJungle 0\n",
      "totalTimeCrowdControlDealt 0\n",
      "champLevel 0\n",
      "visionWardsBoughtInGame 0\n",
      "sightWardsBoughtInGame 0\n",
      "wardsPlaced 0\n",
      "wardsKilled 0\n",
      "firstBloodKill 0\n",
      "firstBloodAssist 0\n",
      "firstTowerKill 0\n",
      "firstTowerAssist 0\n",
      "firstInhibitorKill 50\n",
      "firstInhibitorAssist 50\n",
      "combatPlayerScore 0\n",
      "objectivePlayerScore 0\n",
      "totalPlayerScore 0\n",
      "totalScoreRank 0\n",
      "playerScore0 0\n",
      "playerScore1 0\n",
      "playerScore2 0\n",
      "playerScore3 0\n",
      "playerScore4 0\n",
      "playerScore5 0\n",
      "playerScore6 0\n",
      "playerScore7 0\n",
      "playerScore8 0\n",
      "playerScore9 0\n",
      "perk0 2\n",
      "perk0Var1 2\n",
      "perk0Var2 2\n",
      "perk0Var3 2\n",
      "perk1 2\n",
      "perk1Var1 2\n",
      "perk1Var2 2\n",
      "perk1Var3 2\n",
      "perk2 2\n",
      "perk2Var1 2\n",
      "perk2Var2 2\n",
      "perk2Var3 2\n",
      "perk3 2\n",
      "perk3Var1 2\n",
      "perk3Var2 2\n",
      "perk3Var3 2\n",
      "perk4 2\n",
      "perk4Var1 2\n",
      "perk4Var2 2\n",
      "perk4Var3 2\n",
      "perk5 2\n",
      "perk5Var1 2\n",
      "perk5Var2 2\n",
      "perk5Var3 2\n",
      "perkPrimaryStyle 2\n",
      "perkSubStyle 2\n",
      "statPerk0 331\n",
      "statPerk1 331\n",
      "statPerk2 331\n",
      "creepsPerMinDeltas_10-20 58\n",
      "creepsPerMinDeltas_0-10 0\n",
      "xpPerMinDeltas_10-20 58\n",
      "xpPerMinDeltas_0-10 0\n",
      "goldPerMinDeltas_10-20 58\n",
      "goldPerMinDeltas_0-10 0\n",
      "csDiffPerMinDeltas_10-20 156\n",
      "csDiffPerMinDeltas_0-10 99\n",
      "xpDiffPerMinDeltas_10-20 156\n",
      "xpDiffPerMinDeltas_0-10 99\n",
      "damageTakenPerMinDeltas_10-20 58\n",
      "damageTakenPerMinDeltas_0-10 0\n",
      "damageTakenDiffPerMinDeltas_10-20 156\n",
      "damageTakenDiffPerMinDeltas_0-10 99\n",
      "lane 0\n",
      "role 0\n",
      "creepsPerMinDeltas_30-end 481\n",
      "creepsPerMinDeltas_20-30 342\n",
      "xpPerMinDeltas_30-end 481\n",
      "xpPerMinDeltas_20-30 342\n",
      "goldPerMinDeltas_30-end 481\n",
      "goldPerMinDeltas_20-30 342\n",
      "csDiffPerMinDeltas_30-end 494\n",
      "csDiffPerMinDeltas_20-30 381\n",
      "xpDiffPerMinDeltas_30-end 494\n",
      "xpDiffPerMinDeltas_20-30 381\n",
      "damageTakenPerMinDeltas_30-end 481\n",
      "damageTakenPerMinDeltas_20-30 342\n",
      "damageTakenDiffPerMinDeltas_30-end 494\n",
      "damageTakenDiffPerMinDeltas_20-30 381\n",
      "highestAchievedSeasonTier 27\n"
     ]
    }
   ],
   "source": [
    "for i, j in zip(df.isna().sum().index, df.isna().sum()):\n",
    "    print(i,j)"
   ]
  },
  {
   "cell_type": "code",
   "execution_count": 144,
   "metadata": {},
   "outputs": [],
   "source": [
    "tgt=\"gameDuration\"\n",
    "ls_pred=[\"kills\",\"deaths\",\"assists\",\"turretKills\",\"totalDamageDealt\",\n",
    "\"magicDamageDealt\",\n",
    "\"physicalDamageDealt\",\n",
    "\"trueDamageDealt\",\n",
    "\"wardsPlaced\",\n",
    "\"wardsKilled\",\n",
    "\"totalDamageTaken\",\n",
    "\"magicalDamageTaken\",\n",
    "\"physicalDamageTaken\",\n",
    "\"trueDamageTaken\",\n",
    "\"totalDamageDealt\",\n",
    "\"magicDamageDealt\",\n",
    "\"physicalDamageDealt\",\n",
    "\"trueDamageDealt\",\n",
    "\"firstBlood\",\n",
    "\"firstTower\",\n",
    "\"firstInhibitor\",\n",
    "\"firstBaron\",\n",
    "\"firstDragon\",\n",
    "\"firstRiftHerald\",\n",
    "\"towerKills\",\n",
    "\"inhibitorKills\",\n",
    "\"baronKills\",\n",
    "\"dragonKills\",\n",
    "\"riftHeraldKills\",\n",
    "\"largestKillingSpree\",\n",
    "\"largestMultiKill\",\n",
    "\"killingSprees\",\n",
    "\"longestTimeSpentLiving\",\n",
    "\"doubleKills\",\n",
    "\"tripleKills\",\n",
    "\"quadraKills\",\n",
    "\"pentaKills\"]"
   ]
  },
  {
   "cell_type": "code",
   "execution_count": 153,
   "metadata": {},
   "outputs": [],
   "source": [
    "from sklearn.feature_selection import SelectKBest, f_regression"
   ]
  },
  {
   "cell_type": "code",
   "execution_count": 154,
   "metadata": {},
   "outputs": [],
   "source": [
    "kb = SelectKBest(k=10, score_func=f_regression)"
   ]
  },
  {
   "cell_type": "code",
   "execution_count": 155,
   "metadata": {},
   "outputs": [
    {
     "data": {
      "text/plain": [
       "SelectKBest(k=10, score_func=<function f_regression at 0x7f91cc9af050>)"
      ]
     },
     "execution_count": 155,
     "metadata": {},
     "output_type": "execute_result"
    }
   ],
   "source": [
    "kb.fit(X = df[ls_pred], y = df[tgt])"
   ]
  },
  {
   "cell_type": "code",
   "execution_count": 156,
   "metadata": {},
   "outputs": [],
   "source": [
    "ls_best = [x for x, y in zip(ls_pred, kb.get_support()) if y]"
   ]
  },
  {
   "cell_type": "code",
   "execution_count": 157,
   "metadata": {},
   "outputs": [
    {
     "data": {
      "text/plain": [
       "['deaths',\n",
       " 'assists',\n",
       " 'totalDamageDealt',\n",
       " 'wardsPlaced',\n",
       " 'wardsKilled',\n",
       " 'totalDamageTaken',\n",
       " 'magicalDamageTaken',\n",
       " 'physicalDamageTaken',\n",
       " 'totalDamageDealt',\n",
       " 'baronKills']"
      ]
     },
     "execution_count": 157,
     "metadata": {},
     "output_type": "execute_result"
    }
   ],
   "source": [
    "ls_best"
   ]
  },
  {
   "cell_type": "code",
   "execution_count": 158,
   "metadata": {},
   "outputs": [],
   "source": [
    "X_train, X_test, y_train, y_test = train_test_split(df[ls_best], df[tgt], test_size=0.33, random_state=42)"
   ]
  },
  {
   "cell_type": "code",
   "execution_count": 159,
   "metadata": {},
   "outputs": [],
   "source": [
    "reg_grid = {\n",
    "    'copy_X':[True,False],\n",
    "    'normalize':[True,False]\n",
    "}"
   ]
  },
  {
   "cell_type": "code",
   "execution_count": 160,
   "metadata": {},
   "outputs": [
    {
     "name": "stdout",
     "output_type": "stream",
     "text": [
      "Best score: 0.8623359501183852\n"
     ]
    }
   ],
   "source": [
    "linReg = LinearRegression()\n",
    "clf = GridSearchCV(linReg, reg_grid, cv=4, error_score=-1000, n_jobs=-1, scoring=\"r2\")\n",
    "clf.fit(X_train, y_train)\n",
    "print(\"Best score: \" + str(clf.best_score_))"
   ]
  },
  {
   "cell_type": "code",
   "execution_count": 161,
   "metadata": {},
   "outputs": [],
   "source": [
    "rid_grid = {\n",
    "    'alpha': [.01,.02,.05,.08,.09,.003 ,.004 ,.05, .3, .5, .8 ,.08 ,.09],\n",
    "    'copy_X':[True,False],\n",
    "    'normalize':[True,False],\n",
    "    'solver':['auto', 'svd', 'cholesky', 'lsqr', 'sparse_cg', 'sag', 'saga']\n",
    "}"
   ]
  },
  {
   "cell_type": "code",
   "execution_count": 162,
   "metadata": {},
   "outputs": [
    {
     "name": "stdout",
     "output_type": "stream",
     "text": [
      "Best score: 0.8624898953344682\n"
     ]
    }
   ],
   "source": [
    "ridgereg = Ridge()\n",
    "clf = GridSearchCV(ridgereg, rid_grid, cv=4, error_score=-1000, n_jobs=-1, scoring=\"r2\")\n",
    "clf.fit(X_train, y_train)\n",
    "print(\"Best score: \" + str(clf.best_score_))"
   ]
  },
  {
   "cell_type": "code",
   "execution_count": 163,
   "metadata": {},
   "outputs": [],
   "source": [
    "las_reg = {\n",
    "    'alpha': [.01,.02,.003 ,.004 ,.05, .3, .5, .8 ,.08 ,.09],\n",
    "    'precompute': [True,False],\n",
    "    'selection': [\"random\",\"cyclic\"],\n",
    "    'positive': [True,False],\n",
    "    'warm_start': [True,False]\n",
    "}"
   ]
  },
  {
   "cell_type": "code",
   "execution_count": 164,
   "metadata": {},
   "outputs": [
    {
     "name": "stdout",
     "output_type": "stream",
     "text": [
      "Best score: 0.8627116797201058\n"
     ]
    }
   ],
   "source": [
    "lassreg = Lasso()\n",
    "clf = GridSearchCV(lassreg, las_reg, cv=4, error_score=-1000, n_jobs=-1, scoring=\"r2\")\n",
    "clf.fit(X_train, y_train)\n",
    "print(\"Best score: \" + str(clf.best_score_))"
   ]
  },
  {
   "cell_type": "code",
   "execution_count": 165,
   "metadata": {},
   "outputs": [],
   "source": [
    "elas_net = {\n",
    "    'alpha': [1.0,.01,.02,.003 ,.004 ,.05, .3, .5, .8 ,.08 ,.09],\n",
    "    'fit_intercept': [True,False],\n",
    "    'precompute': [True,False],\n",
    "    'selection': [\"random\",\"cyclic\"],\n",
    "    'positive': [True,False],\n",
    "    'warm_start': [True,False],\n",
    "    'random_state': [True,False]\n",
    "}"
   ]
  },
  {
   "cell_type": "code",
   "execution_count": 166,
   "metadata": {},
   "outputs": [
    {
     "name": "stdout",
     "output_type": "stream",
     "text": [
      "Best score: 0.8629012294620061\n"
     ]
    }
   ],
   "source": [
    "elasnet = ElasticNet()\n",
    "clf = GridSearchCV(elasnet, elas_net, cv=4, error_score=-1000, n_jobs=-1, scoring=\"r2\")\n",
    "clf.fit(X_train, y_train)\n",
    "print(\"Best score: \" + str(clf.best_score_))"
   ]
  },
  {
   "cell_type": "code",
   "execution_count": 167,
   "metadata": {},
   "outputs": [
    {
     "data": {
      "text/plain": [
       "ElasticNet(alpha=0.3, copy_X=True, fit_intercept=True, l1_ratio=0.5,\n",
       "           max_iter=1000, normalize=False, positive=True, precompute=True,\n",
       "           random_state=True, selection='random', tol=0.0001, warm_start=True)"
      ]
     },
     "execution_count": 167,
     "metadata": {},
     "output_type": "execute_result"
    }
   ],
   "source": [
    "clf.best_estimator_"
   ]
  },
  {
   "cell_type": "code",
   "execution_count": 168,
   "metadata": {},
   "outputs": [
    {
     "name": "stderr",
     "output_type": "stream",
     "text": [
      "/home/arturo/virtualenv/ml/lib/python3.7/site-packages/sklearn/linear_model/coordinate_descent.py:475: ConvergenceWarning: Objective did not converge. You might want to increase the number of iterations. Duality gap: 113946.99442288093, tolerance: 6148.572188688947\n",
      "  positive)\n"
     ]
    },
    {
     "data": {
      "text/plain": [
       "ElasticNet(alpha=1.0, copy_X=True, fit_intercept=True, l1_ratio=0.5,\n",
       "           max_iter=1000, normalize=False, positive=False, precompute=False,\n",
       "           random_state=None, selection='cyclic', tol=0.0001, warm_start=False)"
      ]
     },
     "execution_count": 168,
     "metadata": {},
     "output_type": "execute_result"
    }
   ],
   "source": [
    "elasnet = ElasticNet()\n",
    "elasnet.fit(X_train, y_train)"
   ]
  },
  {
   "cell_type": "code",
   "execution_count": 169,
   "metadata": {},
   "outputs": [
    {
     "data": {
      "text/plain": [
       "0.8684312308575564"
      ]
     },
     "execution_count": 169,
     "metadata": {},
     "output_type": "execute_result"
    }
   ],
   "source": [
    "elasnet.score(X_train, y_train)"
   ]
  },
  {
   "cell_type": "code",
   "execution_count": null,
   "metadata": {},
   "outputs": [],
   "source": []
  }
 ],
 "metadata": {
  "kernelspec": {
   "display_name": "ml",
   "language": "python",
   "name": "ml"
  },
  "language_info": {
   "codemirror_mode": {
    "name": "ipython",
    "version": 3
   },
   "file_extension": ".py",
   "mimetype": "text/x-python",
   "name": "python",
   "nbconvert_exporter": "python",
   "pygments_lexer": "ipython3",
   "version": "3.7.4"
  }
 },
 "nbformat": 4,
 "nbformat_minor": 2
}
